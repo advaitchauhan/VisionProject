{
 "cells": [
  {
   "cell_type": "code",
   "execution_count": 6,
   "metadata": {
    "collapsed": false
   },
   "outputs": [
    {
     "name": "stdout",
     "output_type": "stream",
     "text": [
      "Extracting /tmp/data/train-images-idx3-ubyte.gz\n",
      "Extracting /tmp/data/train-labels-idx1-ubyte.gz\n",
      "Extracting /tmp/data/t10k-images-idx3-ubyte.gz\n",
      "Extracting /tmp/data/t10k-labels-idx1-ubyte.gz\n",
      "WARNING:tensorflow:From <ipython-input-6-05c6c137ea7d>:66 in <module>.: initialize_all_variables (from tensorflow.python.ops.variables) is deprecated and will be removed after 2017-03-02.\n",
      "Instructions for updating:\n",
      "Use `tf.global_variables_initializer` instead.\n"
     ]
    },
    {
     "name": "stderr",
     "output_type": "stream",
     "text": [
      "WARNING:tensorflow:From <ipython-input-6-05c6c137ea7d>:66 in <module>.: initialize_all_variables (from tensorflow.python.ops.variables) is deprecated and will be removed after 2017-03-02.\n",
      "Instructions for updating:\n",
      "Use `tf.global_variables_initializer` instead.\n"
     ]
    },
    {
     "name": "stdout",
     "output_type": "stream",
     "text": [
      "Epoch: 0001 cost= 154.026512852\n",
      "Epoch: 0002 cost= 56.308428974\n",
      "Epoch: 0003 cost= 41.770156879\n",
      "Epoch: 0004 cost= 33.933875737\n",
      "Epoch: 0005 cost= 28.787246186\n",
      "Epoch: 0006 cost= 25.071027294\n",
      "Epoch: 0007 cost= 22.347714415\n",
      "Epoch: 0008 cost= 20.101220662\n",
      "Epoch: 0009 cost= 18.292646710\n",
      "Epoch: 0010 cost= 16.852461527\n",
      "Epoch: 0011 cost= 15.561708547\n",
      "Epoch: 0012 cost= 14.507235367\n",
      "Epoch: 0013 cost= 13.521578526\n",
      "Epoch: 0014 cost= 12.629835881\n",
      "Epoch: 0015 cost= 11.887300441\n",
      "Optimization Finished!\n",
      "Accuracy: 0.9123\n"
     ]
    }
   ],
   "source": [
    "'''\n",
    "A Multilayer Perceptron implementation example using TensorFlow library.\n",
    "This example is using the MNIST database of handwritten digits\n",
    "(http://yann.lecun.com/exdb/mnist/)\n",
    "Author: Aymeric Damien\n",
    "Project: https://github.com/aymericdamien/TensorFlow-Examples/\n",
    "'''\n",
    "\n",
    "from __future__ import print_function\n",
    "\n",
    "# Import MNIST data\n",
    "from tensorflow.examples.tutorials.mnist import input_data\n",
    "mnist = input_data.read_data_sets(\"/tmp/data/\", one_hot=True)\n",
    "\n",
    "import tensorflow as tf\n",
    "\n",
    "# Parameters\n",
    "learning_rate = 0.001\n",
    "training_epochs = 15\n",
    "batch_size = 100\n",
    "display_step = 1\n",
    "\n",
    "# Network Parameters\n",
    "n_hidden_1 = 256 # 1st layer number of features\n",
    "n_hidden_2 = 256 # 2nd layer number of features\n",
    "n_input = 784 # MNIST data input (img shape: 28*28)\n",
    "n_classes = 10 # MNIST total classes (0-9 digits)\n",
    "\n",
    "# tf Graph input\n",
    "x = tf.placeholder(\"float\", [None, n_input])\n",
    "y = tf.placeholder(\"float\", [None, n_classes])\n",
    "\n",
    "\n",
    "# Create model\n",
    "def multilayer_perceptron(x, weights, biases):\n",
    "    # Hidden layer with RELU activation\n",
    "    layer_1 = tf.add(tf.matmul(x, weights['h1']), biases['b1'])\n",
    "    layer_1 = tf.nn.relu(layer_1)\n",
    "    # Hidden layer with RELU activation\n",
    "    layer_2 = tf.add(tf.matmul(layer_1, weights['h2']), biases['b2'])\n",
    "    layer_2 = tf.nn.relu(layer_2)\n",
    "    # Output layer with linear activation\n",
    "    out_layer = tf.matmul(layer_2, weights['out']) + biases['out']\n",
    "    return out_layer\n",
    "\n",
    "# Store layers weight & bias\n",
    "weights = {\n",
    "    'h1': tf.Variable(tf.random_normal([n_input, n_hidden_1])),\n",
    "    'h2': tf.Variable(tf.random_normal([n_hidden_1, n_hidden_2])),\n",
    "    'out': tf.Variable(tf.random_normal([n_hidden_2, n_classes]))\n",
    "}\n",
    "biases = {\n",
    "    'b1': tf.Variable(tf.random_normal([n_hidden_1])),\n",
    "    'b2': tf.Variable(tf.random_normal([n_hidden_2])),\n",
    "    'out': tf.Variable(tf.random_normal([n_classes]))\n",
    "}\n",
    "\n",
    "# Construct model\n",
    "pred = multilayer_perceptron(x, weights, biases)\n",
    "\n",
    "# Define loss and optimizer\n",
    "cost = tf.reduce_mean(tf.nn.softmax_cross_entropy_with_logits(pred, y))\n",
    "optimizer = tf.train.GradientDescentOptimizer(learning_rate=learning_rate).minimize(cost)\n",
    "\n",
    "# Initializing the variables\n",
    "init = tf.initialize_all_variables()\n",
    "\n",
    "# Launch the graph\n",
    "with tf.Session() as sess:\n",
    "    sess.run(init)\n",
    "\n",
    "    # Training cycle\n",
    "    for epoch in range(training_epochs):\n",
    "        avg_cost = 0.\n",
    "        total_batch = int(mnist.train.num_examples/batch_size)\n",
    "        # Loop over all batches\n",
    "        for i in range(total_batch):\n",
    "            batch_x, batch_y = mnist.train.next_batch(batch_size)\n",
    "            # Run optimization op (backprop) and cost op (to get loss value)\n",
    "            _, c = sess.run([optimizer, cost], feed_dict={x: batch_x,\n",
    "                                                          y: batch_y})\n",
    "            # Compute average loss\n",
    "            avg_cost += c / total_batch\n",
    "        # Display logs per epoch step\n",
    "        if epoch % display_step == 0:\n",
    "            print(\"Epoch:\", '%04d' % (epoch+1), \"cost=\", \\\n",
    "                \"{:.9f}\".format(avg_cost))\n",
    "    print(\"Optimization Finished!\")\n",
    "\n",
    "    # Test model\n",
    "    correct_prediction = tf.equal(tf.argmax(pred, 1), tf.argmax(y, 1))\n",
    "    # Calculate accuracy\n",
    "    accuracy = tf.reduce_mean(tf.cast(correct_prediction, \"float\"))\n",
    "    print(\"Accuracy:\", accuracy.eval({x: mnist.test.images, y: mnist.test.labels}))\n"
   ]
  },
  {
   "cell_type": "markdown",
   "metadata": {},
   "source": [
    "Now, we have modified the code by adding in a gradient noise component. "
   ]
  },
  {
   "cell_type": "code",
   "execution_count": 3,
   "metadata": {
    "collapsed": false
   },
   "outputs": [
    {
     "name": "stdout",
     "output_type": "stream",
     "text": [
      "Extracting /tmp/data/train-images-idx3-ubyte.gz\n",
      "Extracting /tmp/data/train-labels-idx1-ubyte.gz\n",
      "Extracting /tmp/data/t10k-images-idx3-ubyte.gz\n",
      "Extracting /tmp/data/t10k-labels-idx1-ubyte.gz\n",
      "WARNING:tensorflow:From <ipython-input-3-02de192f3088>:90 in <module>.: initialize_all_variables (from tensorflow.python.ops.variables) is deprecated and will be removed after 2017-03-02.\n",
      "Instructions for updating:\n",
      "Use `tf.global_variables_initializer` instead.\n"
     ]
    },
    {
     "name": "stderr",
     "output_type": "stream",
     "text": [
      "WARNING:tensorflow:From <ipython-input-3-02de192f3088>:90 in <module>.: initialize_all_variables (from tensorflow.python.ops.variables) is deprecated and will be removed after 2017-03-02.\n",
      "Instructions for updating:\n",
      "Use `tf.global_variables_initializer` instead.\n"
     ]
    },
    {
     "name": "stdout",
     "output_type": "stream",
     "text": [
      "Epoch: 0001 cost= 54.523476620\n",
      "Epoch: 0002 cost= 19.107387671\n",
      "Epoch: 0003 cost= 12.563198862\n",
      "Epoch: 0004 cost= 9.273977405\n",
      "Epoch: 0005 cost= 7.334051925\n",
      "Epoch: 0006 cost= 5.946635454\n",
      "Epoch: 0007 cost= 4.956802555\n",
      "Epoch: 0008 cost= 4.211070791\n",
      "Epoch: 0009 cost= 3.613363808\n",
      "Epoch: 0010 cost= 3.108552761\n",
      "Epoch: 0011 cost= 2.682546721\n",
      "Epoch: 0012 cost= 2.340730362\n",
      "Epoch: 0013 cost= 2.071511576\n",
      "Epoch: 0014 cost= 1.852105742\n",
      "Epoch: 0015 cost= 1.669174071\n",
      "Optimization Finished!\n",
      "Accuracy: 0.7114\n"
     ]
    }
   ],
   "source": [
    "'''\n",
    "A Multilayer Perceptron implementation example using TensorFlow library.\n",
    "This example is using the MNIST database of handwritten digits\n",
    "(http://yann.lecun.com/exdb/mnist/)\n",
    "Author: Aymeric Damien\n",
    "Project: https://github.com/aymericdamien/TensorFlow-Examples/\n",
    "'''\n",
    "\n",
    "from __future__ import print_function\n",
    "\n",
    "# Import MNIST data\n",
    "from tensorflow.examples.tutorials.mnist import input_data\n",
    "mnist = input_data.read_data_sets(\"/tmp/data/\", one_hot=True)\n",
    "\n",
    "import tensorflow as tf\n",
    "from tensorflow.python.framework import ops\n",
    "from tensorflow.python.ops import random_ops\n",
    "\n",
    "# Parameters\n",
    "learning_rate = 0.001\n",
    "training_epochs = 15\n",
    "batch_size = 100\n",
    "display_step = 1\n",
    "\n",
    "# Network Parameters\n",
    "n_hidden_1 = 50 # 1st layer number of features\n",
    "n_hidden_2 =50 # 2nd layer number of features\n",
    "n_input = 784 # MNIST data input (img shape: 28*28)\n",
    "n_classes = 10 # MNIST total classes (0-9 digits)\n",
    "\n",
    "# define gradient noise scale\n",
    "gradient_noise_scale = 1.0\n",
    "\n",
    "# tf Graph input\n",
    "x = tf.placeholder(\"float\", [None, n_input])\n",
    "y = tf.placeholder(\"float\", [None, n_classes])\n",
    "\n",
    "\n",
    "# Create model\n",
    "def multilayer_perceptron(x, weights, biases):\n",
    "    # Hidden layer with RELU activation\n",
    "    layer_1 = tf.add(tf.matmul(x, weights['h1']), biases['b1'])\n",
    "    layer_1 = tf.nn.relu(layer_1)\n",
    "    # Hidden layer with RELU activation\n",
    "    layer_2 = tf.add(tf.matmul(layer_1, weights['h2']), biases['b2'])\n",
    "    layer_2 = tf.nn.relu(layer_2)\n",
    "    # Output layer with linear activation\n",
    "    out_layer = tf.matmul(layer_2, weights['out']) + biases['out']\n",
    "    return out_layer\n",
    "\n",
    "# Store layers weight & bias\n",
    "weights = {\n",
    "    'h1': tf.Variable(tf.random_normal([n_input, n_hidden_1])),\n",
    "    'h2': tf.Variable(tf.random_normal([n_hidden_1, n_hidden_2])),\n",
    "    'out': tf.Variable(tf.random_normal([n_hidden_2, n_classes]))\n",
    "}\n",
    "biases = {\n",
    "    'b1': tf.Variable(tf.random_normal([n_hidden_1])),\n",
    "    'b2': tf.Variable(tf.random_normal([n_hidden_2])),\n",
    "    'out': tf.Variable(tf.random_normal([n_classes]))\n",
    "}\n",
    "\n",
    "# Construct model\n",
    "pred = multilayer_perceptron(x, weights, biases)\n",
    "\n",
    "# Define loss and optimizer\n",
    "cost = tf.reduce_mean(tf.nn.softmax_cross_entropy_with_logits(pred, y))\n",
    "\n",
    "optimizer = tf.train.GradientDescentOptimizer(learning_rate=learning_rate)\n",
    "\n",
    "grads_and_vars = optimizer.compute_gradients(cost)\n",
    "gradients, variables = zip(*grads_and_vars)\n",
    "noisy_gradients = []\n",
    "for gradient in gradients:\n",
    "    if gradient is None:\n",
    "      noisy_gradients.append(None)\n",
    "      continue\n",
    "    if isinstance(gradient, ops.IndexedSlices):\n",
    "      gradient_shape = gradient.dense_shape\n",
    "    else:\n",
    "      gradient_shape = gradient.get_shape()\n",
    "    noise = random_ops.truncated_normal(gradient_shape) * gradient_noise_scale\n",
    "    noisy_gradients.append(gradient + noise)\n",
    "\n",
    "noisy_grads_and_vars = list(zip(noisy_gradients, variables))\n",
    "train_opt = optimizer.apply_gradients(noisy_grads_and_vars)\n",
    "\n",
    "\n",
    "# Initializing the variables\n",
    "init = tf.initialize_all_variables()\n",
    "\n",
    "# Launch the graph\n",
    "with tf.Session() as sess:\n",
    "    sess.run(init)\n",
    "\n",
    "    # Training cycle\n",
    "    for epoch in range(training_epochs):\n",
    "        avg_cost = 0.\n",
    "        total_batch = int(mnist.train.num_examples/batch_size)\n",
    "        # Loop over all batches\n",
    "        for i in range(total_batch):\n",
    "            batch_x, batch_y = mnist.train.next_batch(batch_size)\n",
    "            # Run optimization op (backprop) and cost op (to get loss value)\n",
    "            _, c = sess.run([train_opt, cost], feed_dict={x: batch_x,\n",
    "                                                          y: batch_y})\n",
    "            # Compute average loss\n",
    "            avg_cost += c / total_batch\n",
    "        # Display logs per epoch step\n",
    "        if epoch % display_step == 0:\n",
    "            print(\"Epoch:\", '%04d' % (epoch+1), \"cost=\", \\\n",
    "                \"{:.9f}\".format(avg_cost))\n",
    "    print(\"Optimization Finished!\")\n",
    "\n",
    "    # Test model\n",
    "    correct_prediction = tf.equal(tf.argmax(pred, 1), tf.argmax(y, 1))\n",
    "    # Calculate accuracy\n",
    "    accuracy = tf.reduce_mean(tf.cast(correct_prediction, \"float\"))\n",
    "    print(\"Accuracy:\", accuracy.eval({x: mnist.test.images, y: mnist.test.labels}))\n"
   ]
  },
  {
   "cell_type": "markdown",
   "metadata": {},
   "source": [
    "We observe that when 100x gradient noise is added, the accuracy has gone down to 79%!"
   ]
  },
  {
   "cell_type": "markdown",
   "metadata": {},
   "source": [
    "Below, we try to decrease the number of hidden units to 50, and the increase the number of layers by one. "
   ]
  },
  {
   "cell_type": "code",
   "execution_count": 1,
   "metadata": {
    "collapsed": false
   },
   "outputs": [
    {
     "name": "stdout",
     "output_type": "stream",
     "text": [
      "Extracting /tmp/data/train-images-idx3-ubyte.gz\n",
      "Extracting /tmp/data/train-labels-idx1-ubyte.gz\n",
      "Extracting /tmp/data/t10k-images-idx3-ubyte.gz\n",
      "Extracting /tmp/data/t10k-labels-idx1-ubyte.gz\n",
      "WARNING:tensorflow:From <ipython-input-1-85a870565f0f>:94 in <module>.: initialize_all_variables (from tensorflow.python.ops.variables) is deprecated and will be removed after 2017-03-02.\n",
      "Instructions for updating:\n",
      "Use `tf.global_variables_initializer` instead.\n"
     ]
    },
    {
     "name": "stderr",
     "output_type": "stream",
     "text": [
      "WARNING:tensorflow:From <ipython-input-1-85a870565f0f>:94 in <module>.: initialize_all_variables (from tensorflow.python.ops.variables) is deprecated and will be removed after 2017-03-02.\n",
      "Instructions for updating:\n",
      "Use `tf.global_variables_initializer` instead.\n"
     ]
    },
    {
     "name": "stdout",
     "output_type": "stream",
     "text": [
      "Epoch: 0001 cost= 85.304863670\n",
      "Epoch: 0002 cost= 18.644972058\n",
      "Epoch: 0003 cost= 9.587799523\n",
      "Epoch: 0004 cost= 4.477712085\n",
      "Epoch: 0005 cost= 2.272845787\n",
      "Epoch: 0006 cost= 1.852295258\n",
      "Epoch: 0007 cost= 1.714000374\n",
      "Epoch: 0008 cost= 1.628495760\n",
      "Epoch: 0009 cost= 1.589273282\n",
      "Epoch: 0010 cost= 1.536517275\n",
      "Epoch: 0011 cost= 1.510185187\n",
      "Epoch: 0012 cost= 1.492731256\n",
      "Epoch: 0013 cost= 1.481177086\n",
      "Epoch: 0014 cost= 1.467025034\n",
      "Epoch: 0015 cost= 1.438244873\n",
      "Optimization Finished!\n",
      "Accuracy: 0.5614\n"
     ]
    }
   ],
   "source": [
    "'''\n",
    "A Multilayer Perceptron implementation example using TensorFlow library.\n",
    "This example is using the MNIST database of handwritten digits\n",
    "(http://yann.lecun.com/exdb/mnist/)\n",
    "Author: Aymeric Damien\n",
    "Project: https://github.com/aymericdamien/TensorFlow-Examples/\n",
    "'''\n",
    "\n",
    "from __future__ import print_function\n",
    "\n",
    "# Import MNIST data\n",
    "from tensorflow.examples.tutorials.mnist import input_data\n",
    "mnist = input_data.read_data_sets(\"/tmp/data/\", one_hot=True)\n",
    "\n",
    "import tensorflow as tf\n",
    "from tensorflow.python.framework import ops\n",
    "from tensorflow.python.ops import random_ops\n",
    "\n",
    "# Parameters\n",
    "learning_rate = 0.001\n",
    "training_epochs = 15\n",
    "batch_size = 100\n",
    "display_step = 1\n",
    "\n",
    "# Network Parameters\n",
    "n_hidden = 50 # 1st layer number of features\n",
    "\n",
    "n_input = 784 # MNIST data input (img shape: 28*28)\n",
    "n_classes = 10 # MNIST total classes (0-9 digits)\n",
    "\n",
    "# define gradient noise scale\n",
    "gradient_noise_scale = 1.0\n",
    "\n",
    "# tf Graph input\n",
    "x = tf.placeholder(\"float\", [None, n_input])\n",
    "y = tf.placeholder(\"float\", [None, n_classes])\n",
    "\n",
    "\n",
    "# Create model\n",
    "def multilayer_perceptron(x, weights, biases):\n",
    "    # Hidden layer with RELU activation\n",
    "    layer_1 = tf.add(tf.matmul(x, weights['h1']), biases['b1'])\n",
    "    layer_1 = tf.nn.relu(layer_1)\n",
    "    # Hidden layer with RELU activation\n",
    "    layer_2 = tf.add(tf.matmul(layer_1, weights['h2']), biases['b2'])\n",
    "    layer_2 = tf.nn.relu(layer_2)\n",
    "    #Hidden layer, RELU Activation\n",
    "    layer_3 = tf.add(tf.matmul(layer_2, weights['h3']), biases['b3'])\n",
    "    layer_3 = tf.nn.relu(layer_3)\n",
    "    # Output layer with linear activation\n",
    "    out_layer = tf.matmul(layer_3, weights['out']) + biases['out']\n",
    "    return out_layer\n",
    "\n",
    "# Store layers weight & bias\n",
    "weights = {\n",
    "    'h1': tf.Variable(tf.random_normal([n_input, n_hidden])),\n",
    "    'h2': tf.Variable(tf.random_normal([n_hidden, n_hidden])),\n",
    "    'h3': tf.Variable(tf.random_normal([n_hidden, n_hidden])),\n",
    "    'out': tf.Variable(tf.random_normal([n_hidden, n_classes]))\n",
    "}\n",
    "biases = {\n",
    "    'b1': tf.Variable(tf.random_normal([n_hidden])),\n",
    "    'b2': tf.Variable(tf.random_normal([n_hidden])),\n",
    "    'b3': tf.Variable(tf.random_normal([n_hidden])),\n",
    "    'out': tf.Variable(tf.random_normal([n_classes]))\n",
    "}\n",
    "\n",
    "# Construct model\n",
    "pred = multilayer_perceptron(x, weights, biases)\n",
    "\n",
    "# Define loss and optimizer\n",
    "cost = tf.reduce_mean(tf.nn.softmax_cross_entropy_with_logits(pred, y))\n",
    "optimizer = tf.train.GradientDescentOptimizer(learning_rate=learning_rate)\n",
    "\n",
    "grads_and_vars = optimizer.compute_gradients(cost)\n",
    "gradients, variables = zip(*grads_and_vars)\n",
    "noisy_gradients = []\n",
    "for gradient in gradients:\n",
    "    if gradient is None:\n",
    "      noisy_gradients.append(None)\n",
    "      continue\n",
    "    if isinstance(gradient, ops.IndexedSlices):\n",
    "      gradient_shape = gradient.dense_shape\n",
    "    else:\n",
    "      gradient_shape = gradient.get_shape()\n",
    "    noise = random_ops.truncated_normal(gradient_shape) * gradient_noise_scale\n",
    "    noisy_gradients.append(gradient + noise)\n",
    "\n",
    "noisy_grads_and_vars = list(zip(noisy_gradients, variables))\n",
    "train_opt = optimizer.apply_gradients(noisy_grads_and_vars)\n",
    "\n",
    "\n",
    "# Initializing the variables\n",
    "init = tf.initialize_all_variables()\n",
    "\n",
    "# Launch the graph\n",
    "with tf.Session() as sess:\n",
    "    sess.run(init)\n",
    "\n",
    "    # Training cycle\n",
    "    for epoch in range(training_epochs):\n",
    "        avg_cost = 0.\n",
    "        total_batch = int(mnist.train.num_examples/batch_size)\n",
    "        # Loop over all batches\n",
    "        for i in range(total_batch):\n",
    "            batch_x, batch_y = mnist.train.next_batch(batch_size)\n",
    "            # Run optimization op (backprop) and cost op (to get loss value)\n",
    "            _, c = sess.run([train_opt, cost], feed_dict={x: batch_x,\n",
    "                                                          y: batch_y})\n",
    "            # Compute average loss\n",
    "            avg_cost += c / total_batch\n",
    "        # Display logs per epoch step\n",
    "        if epoch % display_step == 0:\n",
    "            print(\"Epoch:\", '%04d' % (epoch+1), \"cost=\", \\\n",
    "                \"{:.9f}\".format(avg_cost))\n",
    "    print(\"Optimization Finished!\")\n",
    "\n",
    "    # Test model\n",
    "    correct_prediction = tf.equal(tf.argmax(pred, 1), tf.argmax(y, 1))\n",
    "    # Calculate accuracy\n",
    "    accuracy = tf.reduce_mean(tf.cast(correct_prediction, \"float\"))\n",
    "    print(\"Accuracy:\", accuracy.eval({x: mnist.test.images, y: mnist.test.labels}))\n"
   ]
  },
  {
   "cell_type": "markdown",
   "metadata": {},
   "source": [
    "Now I will attempt 10 layer perceptron:"
   ]
  },
  {
   "cell_type": "code",
   "execution_count": 4,
   "metadata": {
    "collapsed": false
   },
   "outputs": [
    {
     "name": "stdout",
     "output_type": "stream",
     "text": [
      "Extracting /tmp/data/train-images-idx3-ubyte.gz\n",
      "Extracting /tmp/data/train-labels-idx1-ubyte.gz\n",
      "Extracting /tmp/data/t10k-images-idx3-ubyte.gz\n",
      "Extracting /tmp/data/t10k-labels-idx1-ubyte.gz\n",
      "WARNING:tensorflow:From <ipython-input-4-724f1d386f15>:128 in <module>.: initialize_all_variables (from tensorflow.python.ops.variables) is deprecated and will be removed after 2017-03-02.\n",
      "Instructions for updating:\n",
      "Use `tf.global_variables_initializer` instead.\n"
     ]
    },
    {
     "name": "stderr",
     "output_type": "stream",
     "text": [
      "WARNING:tensorflow:From <ipython-input-4-724f1d386f15>:128 in <module>.: initialize_all_variables (from tensorflow.python.ops.variables) is deprecated and will be removed after 2017-03-02.\n",
      "Instructions for updating:\n",
      "Use `tf.global_variables_initializer` instead.\n"
     ]
    },
    {
     "name": "stdout",
     "output_type": "stream",
     "text": [
      "Epoch: 0001 cost= 2.310701294\n",
      "Epoch: 0002 cost= 2.288274199\n",
      "Epoch: 0003 cost= 2.130960203\n",
      "Epoch: 0004 cost= 1.776757853\n",
      "Epoch: 0005 cost= 1.447239249\n",
      "Epoch: 0006 cost= 1.285714174\n",
      "Epoch: 0007 cost= 1.196031783\n",
      "Epoch: 0008 cost= 1.151221068\n",
      "Epoch: 0009 cost= 1.152040341\n",
      "Epoch: 0010 cost= 1.129889794\n",
      "Epoch: 0011 cost= 1.123719214\n",
      "Epoch: 0012 cost= 1.120449370\n",
      "Epoch: 0013 cost= 1.119682016\n",
      "Epoch: 0014 cost= 1.070964791\n",
      "Epoch: 0015 cost= 1.081768620\n",
      "Optimization Finished!\n",
      "Accuracy: 0.6687\n"
     ]
    }
   ],
   "source": [
    "'''\n",
    "A Multilayer Perceptron implementation example using TensorFlow library.\n",
    "This example is using the MNIST database of handwritten digits\n",
    "(http://yann.lecun.com/exdb/mnist/)\n",
    "Author: Aymeric Damien\n",
    "Project: https://github.com/aymericdamien/TensorFlow-Examples/\n",
    "'''\n",
    "import math\n",
    "from __future__ import print_function\n",
    "\n",
    "# Import MNIST data\n",
    "from tensorflow.examples.tutorials.mnist import input_data\n",
    "mnist = input_data.read_data_sets(\"/tmp/data/\", one_hot=True)\n",
    "\n",
    "import tensorflow as tf\n",
    "from tensorflow.python.framework import ops\n",
    "from tensorflow.python.ops import random_ops\n",
    "\n",
    "# Parameters\n",
    "learning_rate = 0.005\n",
    "training_epochs = 15\n",
    "batch_size = 200\n",
    "display_step = 1\n",
    "\n",
    "# Network Parameters\n",
    "n_hidden = 50\n",
    "n_input = 784 # MNIST data input (img shape: 28*28)\n",
    "n_classes = 10 # MNIST total classes (0-9 digits)\n",
    "\n",
    "# define gradient noise scale\n",
    "gradient_noise_scale = 1.0\n",
    "\n",
    "# tf Graph input\n",
    "x = tf.placeholder(\"float\", [None, n_input])\n",
    "y = tf.placeholder(\"float\", [None, n_classes])\n",
    "\n",
    "\n",
    "# Create model\n",
    "def multilayer_perceptron(x, weights, biases):\n",
    "    # Hidden layer with RELU activation\n",
    "    layer_1 = tf.add(tf.matmul(x, weights['h1']), biases['b1'])\n",
    "    layer_1 = tf.nn.relu(layer_1)\n",
    "    # Hidden layer with RELU activation\n",
    "    layer_2 = tf.add(tf.matmul(layer_1, weights['h2']), biases['b2'])\n",
    "    layer_2 = tf.nn.relu(layer_2)\n",
    "    #Hidden layer, RELU Activation\n",
    "    layer_3 = tf.add(tf.matmul(layer_2, weights['h3']), biases['b3'])\n",
    "    layer_3 = tf.nn.relu(layer_3)\n",
    "    #Hidden layer, RELU Activation\n",
    "    layer_4 = tf.add(tf.matmul(layer_3, weights['h4']), biases['b4'])\n",
    "    layer_4 = tf.nn.relu(layer_4)\n",
    "    #Hidden layer, RELU Activation\n",
    "    layer_5 = tf.add(tf.matmul(layer_4, weights['h5']), biases['b5'])\n",
    "    layer_5 = tf.nn.relu(layer_5)\n",
    "    #Hidden layer, RELU Activation\n",
    "    layer_6 = tf.add(tf.matmul(layer_5, weights['h6']), biases['b6'])\n",
    "    layer_6 = tf.nn.relu(layer_6)\n",
    "    #Hidden layer, RELU Activation\n",
    "    layer_7 = tf.add(tf.matmul(layer_6, weights['h7']), biases['b7'])\n",
    "    layer_7 = tf.nn.relu(layer_7)\n",
    "    #Hidden layer, RELU Activation\n",
    "    layer_8 = tf.add(tf.matmul(layer_7, weights['h8']), biases['b8'])\n",
    "    layer_8 = tf.nn.relu(layer_8)\n",
    "    #Hidden layer, RELU Activation\n",
    "    layer_9 = tf.add(tf.matmul(layer_8, weights['h9']), biases['b9'])\n",
    "    layer_9 = tf.nn.relu(layer_9)\n",
    "    #Hidden layer, RELU Activation\n",
    "    layer_10 = tf.add(tf.matmul(layer_9, weights['h10']), biases['b10'])\n",
    "    layer_10 = tf.nn.relu(layer_10)\n",
    "    # Output layer with linear activation\n",
    "    out_layer = tf.matmul(layer_10, weights['out']) + biases['out']\n",
    "    return out_layer\n",
    "\n",
    "# Store layers weight & bias\n",
    "weights = {\n",
    "    'h1': tf.Variable(tf.random_normal([n_input, n_hidden], stddev = 1/math.sqrt(n_hidden))),\n",
    "    'h2': tf.Variable(tf.random_normal([n_hidden, n_hidden], stddev = 1/math.sqrt(n_hidden))),\n",
    "    'h3': tf.Variable(tf.random_normal([n_hidden, n_hidden], stddev = 1/math.sqrt(n_hidden))),\n",
    "    'h4': tf.Variable(tf.random_normal([n_hidden, n_hidden], stddev = 1/math.sqrt(n_hidden))),\n",
    "    'h5': tf.Variable(tf.random_normal([n_hidden, n_hidden], stddev = 1/math.sqrt(n_hidden))),\n",
    "    'h6': tf.Variable(tf.random_normal([n_hidden, n_hidden], stddev = 1/math.sqrt(n_hidden))),\n",
    "    'h7': tf.Variable(tf.random_normal([n_hidden, n_hidden], stddev = 1/math.sqrt(n_hidden))),\n",
    "    'h8': tf.Variable(tf.random_normal([n_hidden, n_hidden], stddev = 1/math.sqrt(n_hidden))),\n",
    "    'h9': tf.Variable(tf.random_normal([n_hidden, n_hidden], stddev = 1/math.sqrt(n_hidden))),\n",
    "    'h10': tf.Variable(tf.random_normal([n_hidden, n_hidden], stddev = 1/math.sqrt(n_hidden))),\n",
    "    'out': tf.Variable(tf.random_normal([n_hidden, n_classes], stddev = 1/math.sqrt(n_hidden))),\n",
    "}\n",
    "biases = {\n",
    "    'b1': tf.Variable(tf.random_normal([n_hidden], stddev = 1/math.sqrt(n_hidden))),\n",
    "    'b2': tf.Variable(tf.random_normal([n_hidden], stddev = 1/math.sqrt(n_hidden))),\n",
    "    'b3': tf.Variable(tf.random_normal([n_hidden], stddev = 1/math.sqrt(n_hidden))),\n",
    "    'b4': tf.Variable(tf.random_normal([n_hidden], stddev = 1/math.sqrt(n_hidden))),\n",
    "    'b5': tf.Variable(tf.random_normal([n_hidden], stddev = 1/math.sqrt(n_hidden))),\n",
    "    'b6': tf.Variable(tf.random_normal([n_hidden], stddev = 1/math.sqrt(n_hidden))),\n",
    "    'b7': tf.Variable(tf.random_normal([n_hidden], stddev = 1/math.sqrt(n_hidden))),\n",
    "    'b8': tf.Variable(tf.random_normal([n_hidden], stddev = 1/math.sqrt(n_hidden))),\n",
    "    'b9': tf.Variable(tf.random_normal([n_hidden], stddev = 1/math.sqrt(n_hidden))),\n",
    "    'b10': tf.Variable(tf.random_normal([n_hidden], stddev = 1/math.sqrt(n_hidden))),\n",
    "    'out': tf.Variable(tf.random_normal([n_classes], stddev = 1/math.sqrt(n_hidden))),\n",
    "}\n",
    "\n",
    "# Construct model\n",
    "pred = multilayer_perceptron(x, weights, biases)\n",
    "\n",
    "# Define loss and optimizer\n",
    "cost = tf.reduce_mean(tf.nn.softmax_cross_entropy_with_logits(pred, y))\n",
    "optimizer = tf.train.GradientDescentOptimizer(learning_rate=learning_rate)\n",
    "\n",
    "grads_and_vars = optimizer.compute_gradients(cost)\n",
    "gradients, variables = zip(*grads_and_vars)\n",
    "noisy_gradients = []\n",
    "for gradient in gradients:\n",
    "    if gradient is None:\n",
    "      noisy_gradients.append(None)\n",
    "      continue\n",
    "    if isinstance(gradient, ops.IndexedSlices):\n",
    "      gradient_shape = gradient.dense_shape\n",
    "    else:\n",
    "      gradient_shape = gradient.get_shape()\n",
    "    noise = random_ops.truncated_normal(gradient_shape) * gradient_noise_scale\n",
    "    noisy_gradients.append(gradient + noise)\n",
    "\n",
    "noisy_grads_and_vars = list(zip(noisy_gradients, variables))\n",
    "train_opt = optimizer.apply_gradients(noisy_grads_and_vars)\n",
    "\n",
    "\n",
    "# Initializing the variables\n",
    "init = tf.initialize_all_variables()\n",
    "\n",
    "# Launch the graph\n",
    "with tf.Session() as sess:\n",
    "    sess.run(init)\n",
    "\n",
    "    # Training cycle\n",
    "    for epoch in range(training_epochs):\n",
    "        avg_cost = 0.\n",
    "        total_batch = int(mnist.train.num_examples/batch_size)\n",
    "        # Loop over all batches\n",
    "        for i in range(total_batch):\n",
    "            batch_x, batch_y = mnist.train.next_batch(batch_size)\n",
    "            # Run optimization op (backprop) and cost op (to get loss value)\n",
    "            _, c = sess.run([train_opt, cost], feed_dict={x: batch_x,\n",
    "                                                          y: batch_y})\n",
    "            # Compute average loss\n",
    "            avg_cost += c / total_batch\n",
    "        # Display logs per epoch step\n",
    "        if epoch % display_step == 0:\n",
    "            print(\"Epoch:\", '%04d' % (epoch+1), \"cost=\", \\\n",
    "                \"{:.9f}\".format(avg_cost))\n",
    "    print(\"Optimization Finished!\")\n",
    "\n",
    "    # Test model\n",
    "    correct_prediction = tf.equal(tf.argmax(pred, 1), tf.argmax(y, 1))\n",
    "    # Calculate accuracy\n",
    "    accuracy = tf.reduce_mean(tf.cast(correct_prediction, \"float\"))\n",
    "    print(\"Accuracy:\", accuracy.eval({x: mnist.test.images, y: mnist.test.labels}))"
   ]
  },
  {
   "cell_type": "code",
   "execution_count": 41,
   "metadata": {
    "collapsed": false
   },
   "outputs": [],
   "source": [
    "import math\n",
    "from __future__ import print_function\n",
    "\n",
    "# Import MNIST data\n",
    "from tensorflow.examples.tutorials.mnist import input_data\n",
    "import tensorflow as tf\n",
    "from tensorflow.python.framework import ops\n",
    "from tensorflow.python.ops import random_ops\n",
    "\n",
    "\n",
    "def percept10(noise, lr, n_hidden, numEpochs):\n",
    "\n",
    "    mnist = input_data.read_data_sets(\"/tmp/data/\", one_hot=True)\n",
    "\n",
    "    # Parameters\n",
    "    learning_rate = lr\n",
    "    training_epochs = numEpochs\n",
    "    batch_size = 200\n",
    "    display_step = 1\n",
    "\n",
    "    # Network Parameters\n",
    "    n_hidden = 50\n",
    "    n_input = 784 # MNIST data input (img shape: 28*28)\n",
    "    n_classes = 10 # MNIST total classes (0-9 digits)\n",
    "\n",
    "    # define gradient noise scale\n",
    "    gradient_noise_scale = noise\n",
    "\n",
    "    # tf Graph input\n",
    "    x = tf.placeholder(\"float\", [None, n_input])\n",
    "    y = tf.placeholder(\"float\", [None, n_classes])\n",
    "\n",
    "\n",
    "    # Create model\n",
    "    def multilayer_perceptron(x, weights, biases):\n",
    "        # Hidden layer with RELU activation\n",
    "        layer_1 = tf.add(tf.matmul(x, weights['h1']), biases['b1'])\n",
    "        layer_1 = tf.nn.relu(layer_1)\n",
    "        # Hidden layer with RELU activation\n",
    "        layer_2 = tf.add(tf.matmul(layer_1, weights['h2']), biases['b2'])\n",
    "        layer_2 = tf.nn.relu(layer_2)\n",
    "        #Hidden layer, RELU Activation\n",
    "        layer_3 = tf.add(tf.matmul(layer_2, weights['h3']), biases['b3'])\n",
    "        layer_3 = tf.nn.relu(layer_3)\n",
    "        #Hidden layer, RELU Activation\n",
    "        layer_4 = tf.add(tf.matmul(layer_3, weights['h4']), biases['b4'])\n",
    "        layer_4 = tf.nn.relu(layer_4)\n",
    "        #Hidden layer, RELU Activation\n",
    "        layer_5 = tf.add(tf.matmul(layer_4, weights['h5']), biases['b5'])\n",
    "        layer_5 = tf.nn.relu(layer_5)\n",
    "        #Hidden layer, RELU Activation\n",
    "        layer_6 = tf.add(tf.matmul(layer_5, weights['h6']), biases['b6'])\n",
    "        layer_6 = tf.nn.relu(layer_6)\n",
    "        #Hidden layer, RELU Activation\n",
    "        layer_7 = tf.add(tf.matmul(layer_6, weights['h7']), biases['b7'])\n",
    "        layer_7 = tf.nn.relu(layer_7)\n",
    "        #Hidden layer, RELU Activation\n",
    "        layer_8 = tf.add(tf.matmul(layer_7, weights['h8']), biases['b8'])\n",
    "        layer_8 = tf.nn.relu(layer_8)\n",
    "        #Hidden layer, RELU Activation\n",
    "        layer_9 = tf.add(tf.matmul(layer_8, weights['h9']), biases['b9'])\n",
    "        layer_9 = tf.nn.relu(layer_9)\n",
    "        #Hidden layer, RELU Activation\n",
    "        layer_10 = tf.add(tf.matmul(layer_9, weights['h10']), biases['b10'])\n",
    "        layer_10 = tf.nn.relu(layer_10)\n",
    "        # Output layer with linear activation\n",
    "        out_layer = tf.matmul(layer_10, weights['out']) + biases['out']\n",
    "        return out_layer\n",
    "\n",
    "    # Store layers weight & bias\n",
    "    weights = {\n",
    "        'h1': tf.Variable(tf.random_normal([n_input, n_hidden], stddev = 1/math.sqrt(n_hidden))),\n",
    "        'h2': tf.Variable(tf.random_normal([n_hidden, n_hidden], stddev = 1/math.sqrt(n_hidden))),\n",
    "        'h3': tf.Variable(tf.random_normal([n_hidden, n_hidden], stddev = 1/math.sqrt(n_hidden))),\n",
    "        'h4': tf.Variable(tf.random_normal([n_hidden, n_hidden], stddev = 1/math.sqrt(n_hidden))),\n",
    "        'h5': tf.Variable(tf.random_normal([n_hidden, n_hidden], stddev = 1/math.sqrt(n_hidden))),\n",
    "        'h6': tf.Variable(tf.random_normal([n_hidden, n_hidden], stddev = 1/math.sqrt(n_hidden))),\n",
    "        'h7': tf.Variable(tf.random_normal([n_hidden, n_hidden], stddev = 1/math.sqrt(n_hidden))),\n",
    "        'h8': tf.Variable(tf.random_normal([n_hidden, n_hidden], stddev = 1/math.sqrt(n_hidden))),\n",
    "        'h9': tf.Variable(tf.random_normal([n_hidden, n_hidden], stddev = 1/math.sqrt(n_hidden))),\n",
    "        'h10': tf.Variable(tf.random_normal([n_hidden, n_hidden], stddev = 1/math.sqrt(n_hidden))),\n",
    "        'out': tf.Variable(tf.random_normal([n_hidden, n_classes], stddev = 1/math.sqrt(n_hidden))),\n",
    "    }\n",
    "    biases = {\n",
    "        'b1': tf.Variable(tf.random_normal([n_hidden], stddev = 1/math.sqrt(n_hidden))),\n",
    "        'b2': tf.Variable(tf.random_normal([n_hidden], stddev = 1/math.sqrt(n_hidden))),\n",
    "        'b3': tf.Variable(tf.random_normal([n_hidden], stddev = 1/math.sqrt(n_hidden))),\n",
    "        'b4': tf.Variable(tf.random_normal([n_hidden], stddev = 1/math.sqrt(n_hidden))),\n",
    "        'b5': tf.Variable(tf.random_normal([n_hidden], stddev = 1/math.sqrt(n_hidden))),\n",
    "        'b6': tf.Variable(tf.random_normal([n_hidden], stddev = 1/math.sqrt(n_hidden))),\n",
    "        'b7': tf.Variable(tf.random_normal([n_hidden], stddev = 1/math.sqrt(n_hidden))),\n",
    "        'b8': tf.Variable(tf.random_normal([n_hidden], stddev = 1/math.sqrt(n_hidden))),\n",
    "        'b9': tf.Variable(tf.random_normal([n_hidden], stddev = 1/math.sqrt(n_hidden))),\n",
    "        'b10': tf.Variable(tf.random_normal([n_hidden], stddev = 1/math.sqrt(n_hidden))),\n",
    "        'out': tf.Variable(tf.random_normal([n_classes], stddev = 1/math.sqrt(n_hidden))),\n",
    "    }\n",
    "\n",
    "    # Construct model\n",
    "    pred = multilayer_perceptron(x, weights, biases)\n",
    "\n",
    "    # Define loss and optimizer\n",
    "    cost = tf.reduce_mean(tf.nn.softmax_cross_entropy_with_logits(pred, y))\n",
    "    optimizer = tf.train.GradientDescentOptimizer(learning_rate=learning_rate)\n",
    "\n",
    "    grads_and_vars = optimizer.compute_gradients(cost)\n",
    "    gradients, variables = zip(*grads_and_vars)\n",
    "    noisy_gradients = []\n",
    "    for gradient in gradients:\n",
    "        if gradient is None:\n",
    "          noisy_gradients.append(None)\n",
    "          continue\n",
    "        if isinstance(gradient, ops.IndexedSlices):\n",
    "          gradient_shape = gradient.dense_shape\n",
    "        else:\n",
    "          gradient_shape = gradient.get_shape()\n",
    "        noise = random_ops.truncated_normal(gradient_shape) * gradient_noise_scale\n",
    "        noisy_gradients.append(gradient + noise)\n",
    "\n",
    "    noisy_grads_and_vars = list(zip(noisy_gradients, variables))\n",
    "    train_opt = optimizer.apply_gradients(noisy_grads_and_vars)\n",
    "\n",
    "\n",
    "    # Initializing the variables\n",
    "    init = tf.initialize_all_variables()\n",
    "\n",
    "    # Launch the graph\n",
    "    with tf.Session() as sess:\n",
    "        sess.run(init)\n",
    "\n",
    "        # Training cycle\n",
    "        for epoch in range(training_epochs):\n",
    "            avg_cost = 0.\n",
    "            total_batch = int(mnist.train.num_examples/batch_size)\n",
    "            # Loop over all batches\n",
    "            for i in range(total_batch):\n",
    "                batch_x, batch_y = mnist.train.next_batch(batch_size)\n",
    "                # Run optimization op (backprop) and cost op (to get loss value)\n",
    "                _, c = sess.run([train_opt, cost], feed_dict={x: batch_x,\n",
    "                                                              y: batch_y})\n",
    "                # Compute average loss\n",
    "                avg_cost += c / total_batch\n",
    "            if epoch % display_step == 0:\n",
    "                print(\"Epoch:\", '%04d' % (epoch+1), \"cost=\", \\\n",
    "                    \"{:.9f}\".format(avg_cost))\n",
    "        print(\"Optimization Finished!\")\n",
    "\n",
    "        # Test model\n",
    "        correct_prediction = tf.equal(tf.argmax(pred, 1), tf.argmax(y, 1))\n",
    "        # Calculate accuracy\n",
    "        accuracy = tf.reduce_mean(tf.cast(correct_prediction, \"float\"))\n",
    "        acc = accuracy.eval({x: mnist.test.images, y: mnist.test.labels})\n",
    "        print(\"Accuracy:\", acc)\n",
    "        return acc"
   ]
  },
  {
   "cell_type": "code",
   "execution_count": 27,
   "metadata": {
    "collapsed": false
   },
   "outputs": [
    {
     "name": "stdout",
     "output_type": "stream",
     "text": [
      "Extracting /tmp/data/train-images-idx3-ubyte.gz\n",
      "Extracting /tmp/data/train-labels-idx1-ubyte.gz\n",
      "Extracting /tmp/data/t10k-images-idx3-ubyte.gz\n",
      "Extracting /tmp/data/t10k-labels-idx1-ubyte.gz\n",
      "WARNING:tensorflow:From <ipython-input-26-c1e2ab6b1e7c>:124 in percept10.: initialize_all_variables (from tensorflow.python.ops.variables) is deprecated and will be removed after 2017-03-02.\n",
      "Instructions for updating:\n",
      "Use `tf.global_variables_initializer` instead.\n"
     ]
    },
    {
     "name": "stderr",
     "output_type": "stream",
     "text": [
      "WARNING:tensorflow:From <ipython-input-26-c1e2ab6b1e7c>:124 in percept10.: initialize_all_variables (from tensorflow.python.ops.variables) is deprecated and will be removed after 2017-03-02.\n",
      "Instructions for updating:\n",
      "Use `tf.global_variables_initializer` instead.\n"
     ]
    },
    {
     "name": "stdout",
     "output_type": "stream",
     "text": [
      "Accuracy: 0.6914\n"
     ]
    },
    {
     "data": {
      "text/plain": [
       "0.69139999"
      ]
     },
     "execution_count": 27,
     "metadata": {},
     "output_type": "execute_result"
    }
   ],
   "source": [
    "percept10(noise=1, lr =.005, n_hidden = 50)"
   ]
  },
  {
   "cell_type": "code",
   "execution_count": 12,
   "metadata": {
    "collapsed": false
   },
   "outputs": [
    {
     "name": "stdout",
     "output_type": "stream",
     "text": [
      "Extracting /tmp/data/train-images-idx3-ubyte.gz\n",
      "Extracting /tmp/data/train-labels-idx1-ubyte.gz\n",
      "Extracting /tmp/data/t10k-images-idx3-ubyte.gz\n",
      "Extracting /tmp/data/t10k-labels-idx1-ubyte.gz\n",
      "WARNING:tensorflow:From <ipython-input-8-766def650421>:124 in percept10.: initialize_all_variables (from tensorflow.python.ops.variables) is deprecated and will be removed after 2017-03-02.\n",
      "Instructions for updating:\n",
      "Use `tf.global_variables_initializer` instead.\n"
     ]
    },
    {
     "name": "stderr",
     "output_type": "stream",
     "text": [
      "WARNING:tensorflow:From <ipython-input-8-766def650421>:124 in percept10.: initialize_all_variables (from tensorflow.python.ops.variables) is deprecated and will be removed after 2017-03-02.\n",
      "Instructions for updating:\n",
      "Use `tf.global_variables_initializer` instead.\n"
     ]
    },
    {
     "name": "stdout",
     "output_type": "stream",
     "text": [
      "Epoch: 0001 cost= 2.305572053\n",
      "Epoch: 0002 cost= 2.289341545\n",
      "Epoch: 0003 cost= 2.067046631\n",
      "Epoch: 0004 cost= 1.582955513\n",
      "Epoch: 0005 cost= 1.257955252\n",
      "Epoch: 0006 cost= 1.195730397\n",
      "Epoch: 0007 cost= 1.191572426\n",
      "Epoch: 0008 cost= 1.145896042\n",
      "Epoch: 0009 cost= 1.146947614\n",
      "Epoch: 0010 cost= 1.120890493\n",
      "Epoch: 0011 cost= 1.123896382\n",
      "Epoch: 0012 cost= 1.115336543\n",
      "Epoch: 0013 cost= 1.109680106\n",
      "Epoch: 0014 cost= 1.052895896\n",
      "Epoch: 0015 cost= 1.099252642\n",
      "Optimization Finished!\n",
      "Accuracy: 0.6578\n"
     ]
    }
   ],
   "source": [
    "percept10(noise=1, lr =.005, n_hidden = 50)"
   ]
  },
  {
   "cell_type": "code",
   "execution_count": 13,
   "metadata": {
    "collapsed": false
   },
   "outputs": [
    {
     "name": "stdout",
     "output_type": "stream",
     "text": [
      "Extracting /tmp/data/train-images-idx3-ubyte.gz\n",
      "Extracting /tmp/data/train-labels-idx1-ubyte.gz\n",
      "Extracting /tmp/data/t10k-images-idx3-ubyte.gz\n",
      "Extracting /tmp/data/t10k-labels-idx1-ubyte.gz\n",
      "WARNING:tensorflow:From <ipython-input-8-766def650421>:124 in percept10.: initialize_all_variables (from tensorflow.python.ops.variables) is deprecated and will be removed after 2017-03-02.\n",
      "Instructions for updating:\n",
      "Use `tf.global_variables_initializer` instead.\n"
     ]
    },
    {
     "name": "stderr",
     "output_type": "stream",
     "text": [
      "WARNING:tensorflow:From <ipython-input-8-766def650421>:124 in percept10.: initialize_all_variables (from tensorflow.python.ops.variables) is deprecated and will be removed after 2017-03-02.\n",
      "Instructions for updating:\n",
      "Use `tf.global_variables_initializer` instead.\n"
     ]
    },
    {
     "name": "stdout",
     "output_type": "stream",
     "text": [
      "Epoch: 0001 cost= 2.310609173\n",
      "Epoch: 0002 cost= 2.300800451\n",
      "Epoch: 0003 cost= 2.295851763\n",
      "Epoch: 0004 cost= 2.291024674\n",
      "Epoch: 0005 cost= 2.284386651\n",
      "Epoch: 0006 cost= 2.273196532\n",
      "Epoch: 0007 cost= 2.252023096\n",
      "Epoch: 0008 cost= 2.209983734\n",
      "Epoch: 0009 cost= 2.119852511\n",
      "Epoch: 0010 cost= 1.942089891\n",
      "Epoch: 0011 cost= 1.625608429\n",
      "Epoch: 0012 cost= 1.250933658\n",
      "Epoch: 0013 cost= 1.032171421\n",
      "Epoch: 0014 cost= 0.853778077\n",
      "Epoch: 0015 cost= 0.707395576\n",
      "Optimization Finished!\n",
      "Accuracy: 0.7643\n"
     ]
    }
   ],
   "source": [
    "percept10(noise=0, lr =.005, n_hidden = 50)"
   ]
  },
  {
   "cell_type": "code",
   "execution_count": 22,
   "metadata": {
    "collapsed": true
   },
   "outputs": [],
   "source": [
    "def test1():\n",
    "    noNoiseAcc = [0]*10\n",
    "    noiseAcc = [0]*10\n",
    "    \n",
    "    #With no noise\n",
    "    print(\"NO NOISE!!!\")\n",
    "    for i in range(10):\n",
    "        noNoiseAcc[i] = percept10(noise=0, lr =.005, n_hidden = 50)\n",
    "        \n",
    "    #With noise\n",
    "    print(\"NOISE!!!\")\n",
    "    for i in range(10):\n",
    "        noiseAcc[i] = percept10(noise=1, lr =.005, n_hidden = 50)\n",
    "        \n",
    "    return noNoiseAcc, noiseAcc"
   ]
  },
  {
   "cell_type": "code",
   "execution_count": 23,
   "metadata": {
    "collapsed": false
   },
   "outputs": [
    {
     "name": "stdout",
     "output_type": "stream",
     "text": [
      "NO NOISE!!!\n",
      "Extracting /tmp/data/train-images-idx3-ubyte.gz\n",
      "Extracting /tmp/data/train-labels-idx1-ubyte.gz\n",
      "Extracting /tmp/data/t10k-images-idx3-ubyte.gz\n",
      "Extracting /tmp/data/t10k-labels-idx1-ubyte.gz\n",
      "WARNING:tensorflow:From <ipython-input-21-b167d758ab73>:124 in percept10.: initialize_all_variables (from tensorflow.python.ops.variables) is deprecated and will be removed after 2017-03-02.\n",
      "Instructions for updating:\n",
      "Use `tf.global_variables_initializer` instead.\n"
     ]
    },
    {
     "name": "stderr",
     "output_type": "stream",
     "text": [
      "WARNING:tensorflow:From <ipython-input-21-b167d758ab73>:124 in percept10.: initialize_all_variables (from tensorflow.python.ops.variables) is deprecated and will be removed after 2017-03-02.\n",
      "Instructions for updating:\n",
      "Use `tf.global_variables_initializer` instead.\n"
     ]
    },
    {
     "name": "stdout",
     "output_type": "stream",
     "text": [
      "Accuracy: 0.8333\n",
      "Extracting /tmp/data/train-images-idx3-ubyte.gz\n",
      "Extracting /tmp/data/train-labels-idx1-ubyte.gz\n",
      "Extracting /tmp/data/t10k-images-idx3-ubyte.gz\n",
      "Extracting /tmp/data/t10k-labels-idx1-ubyte.gz\n",
      "WARNING:tensorflow:From <ipython-input-21-b167d758ab73>:124 in percept10.: initialize_all_variables (from tensorflow.python.ops.variables) is deprecated and will be removed after 2017-03-02.\n",
      "Instructions for updating:\n",
      "Use `tf.global_variables_initializer` instead.\n"
     ]
    },
    {
     "name": "stderr",
     "output_type": "stream",
     "text": [
      "WARNING:tensorflow:From <ipython-input-21-b167d758ab73>:124 in percept10.: initialize_all_variables (from tensorflow.python.ops.variables) is deprecated and will be removed after 2017-03-02.\n",
      "Instructions for updating:\n",
      "Use `tf.global_variables_initializer` instead.\n"
     ]
    },
    {
     "name": "stdout",
     "output_type": "stream",
     "text": [
      "Accuracy: 0.7024\n",
      "Extracting /tmp/data/train-images-idx3-ubyte.gz\n",
      "Extracting /tmp/data/train-labels-idx1-ubyte.gz\n",
      "Extracting /tmp/data/t10k-images-idx3-ubyte.gz\n",
      "Extracting /tmp/data/t10k-labels-idx1-ubyte.gz\n",
      "WARNING:tensorflow:From <ipython-input-21-b167d758ab73>:124 in percept10.: initialize_all_variables (from tensorflow.python.ops.variables) is deprecated and will be removed after 2017-03-02.\n",
      "Instructions for updating:\n",
      "Use `tf.global_variables_initializer` instead.\n"
     ]
    },
    {
     "name": "stderr",
     "output_type": "stream",
     "text": [
      "WARNING:tensorflow:From <ipython-input-21-b167d758ab73>:124 in percept10.: initialize_all_variables (from tensorflow.python.ops.variables) is deprecated and will be removed after 2017-03-02.\n",
      "Instructions for updating:\n",
      "Use `tf.global_variables_initializer` instead.\n"
     ]
    },
    {
     "name": "stdout",
     "output_type": "stream",
     "text": [
      "Accuracy: 0.8671\n",
      "Extracting /tmp/data/train-images-idx3-ubyte.gz\n",
      "Extracting /tmp/data/train-labels-idx1-ubyte.gz\n",
      "Extracting /tmp/data/t10k-images-idx3-ubyte.gz\n",
      "Extracting /tmp/data/t10k-labels-idx1-ubyte.gz\n",
      "WARNING:tensorflow:From <ipython-input-21-b167d758ab73>:124 in percept10.: initialize_all_variables (from tensorflow.python.ops.variables) is deprecated and will be removed after 2017-03-02.\n",
      "Instructions for updating:\n",
      "Use `tf.global_variables_initializer` instead.\n"
     ]
    },
    {
     "name": "stderr",
     "output_type": "stream",
     "text": [
      "WARNING:tensorflow:From <ipython-input-21-b167d758ab73>:124 in percept10.: initialize_all_variables (from tensorflow.python.ops.variables) is deprecated and will be removed after 2017-03-02.\n",
      "Instructions for updating:\n",
      "Use `tf.global_variables_initializer` instead.\n"
     ]
    },
    {
     "name": "stdout",
     "output_type": "stream",
     "text": [
      "Accuracy: 0.7777\n",
      "Extracting /tmp/data/train-images-idx3-ubyte.gz\n",
      "Extracting /tmp/data/train-labels-idx1-ubyte.gz\n",
      "Extracting /tmp/data/t10k-images-idx3-ubyte.gz\n",
      "Extracting /tmp/data/t10k-labels-idx1-ubyte.gz\n",
      "WARNING:tensorflow:From <ipython-input-21-b167d758ab73>:124 in percept10.: initialize_all_variables (from tensorflow.python.ops.variables) is deprecated and will be removed after 2017-03-02.\n",
      "Instructions for updating:\n",
      "Use `tf.global_variables_initializer` instead.\n"
     ]
    },
    {
     "name": "stderr",
     "output_type": "stream",
     "text": [
      "WARNING:tensorflow:From <ipython-input-21-b167d758ab73>:124 in percept10.: initialize_all_variables (from tensorflow.python.ops.variables) is deprecated and will be removed after 2017-03-02.\n",
      "Instructions for updating:\n",
      "Use `tf.global_variables_initializer` instead.\n"
     ]
    },
    {
     "name": "stdout",
     "output_type": "stream",
     "text": [
      "Accuracy: 0.8362\n",
      "Extracting /tmp/data/train-images-idx3-ubyte.gz\n",
      "Extracting /tmp/data/train-labels-idx1-ubyte.gz\n",
      "Extracting /tmp/data/t10k-images-idx3-ubyte.gz\n",
      "Extracting /tmp/data/t10k-labels-idx1-ubyte.gz\n",
      "WARNING:tensorflow:From <ipython-input-21-b167d758ab73>:124 in percept10.: initialize_all_variables (from tensorflow.python.ops.variables) is deprecated and will be removed after 2017-03-02.\n",
      "Instructions for updating:\n",
      "Use `tf.global_variables_initializer` instead.\n"
     ]
    },
    {
     "name": "stderr",
     "output_type": "stream",
     "text": [
      "WARNING:tensorflow:From <ipython-input-21-b167d758ab73>:124 in percept10.: initialize_all_variables (from tensorflow.python.ops.variables) is deprecated and will be removed after 2017-03-02.\n",
      "Instructions for updating:\n",
      "Use `tf.global_variables_initializer` instead.\n"
     ]
    },
    {
     "name": "stdout",
     "output_type": "stream",
     "text": [
      "Accuracy: 0.7132\n",
      "Extracting /tmp/data/train-images-idx3-ubyte.gz\n",
      "Extracting /tmp/data/train-labels-idx1-ubyte.gz\n",
      "Extracting /tmp/data/t10k-images-idx3-ubyte.gz\n",
      "Extracting /tmp/data/t10k-labels-idx1-ubyte.gz\n",
      "WARNING:tensorflow:From <ipython-input-21-b167d758ab73>:124 in percept10.: initialize_all_variables (from tensorflow.python.ops.variables) is deprecated and will be removed after 2017-03-02.\n",
      "Instructions for updating:\n",
      "Use `tf.global_variables_initializer` instead.\n"
     ]
    },
    {
     "name": "stderr",
     "output_type": "stream",
     "text": [
      "WARNING:tensorflow:From <ipython-input-21-b167d758ab73>:124 in percept10.: initialize_all_variables (from tensorflow.python.ops.variables) is deprecated and will be removed after 2017-03-02.\n",
      "Instructions for updating:\n",
      "Use `tf.global_variables_initializer` instead.\n"
     ]
    },
    {
     "name": "stdout",
     "output_type": "stream",
     "text": [
      "Accuracy: 0.8217\n",
      "Extracting /tmp/data/train-images-idx3-ubyte.gz\n",
      "Extracting /tmp/data/train-labels-idx1-ubyte.gz\n",
      "Extracting /tmp/data/t10k-images-idx3-ubyte.gz\n",
      "Extracting /tmp/data/t10k-labels-idx1-ubyte.gz\n",
      "WARNING:tensorflow:From <ipython-input-21-b167d758ab73>:124 in percept10.: initialize_all_variables (from tensorflow.python.ops.variables) is deprecated and will be removed after 2017-03-02.\n",
      "Instructions for updating:\n",
      "Use `tf.global_variables_initializer` instead.\n"
     ]
    },
    {
     "name": "stderr",
     "output_type": "stream",
     "text": [
      "WARNING:tensorflow:From <ipython-input-21-b167d758ab73>:124 in percept10.: initialize_all_variables (from tensorflow.python.ops.variables) is deprecated and will be removed after 2017-03-02.\n",
      "Instructions for updating:\n",
      "Use `tf.global_variables_initializer` instead.\n"
     ]
    },
    {
     "name": "stdout",
     "output_type": "stream",
     "text": [
      "Accuracy: 0.8577\n",
      "Extracting /tmp/data/train-images-idx3-ubyte.gz\n",
      "Extracting /tmp/data/train-labels-idx1-ubyte.gz\n",
      "Extracting /tmp/data/t10k-images-idx3-ubyte.gz\n",
      "Extracting /tmp/data/t10k-labels-idx1-ubyte.gz\n",
      "WARNING:tensorflow:From <ipython-input-21-b167d758ab73>:124 in percept10.: initialize_all_variables (from tensorflow.python.ops.variables) is deprecated and will be removed after 2017-03-02.\n",
      "Instructions for updating:\n",
      "Use `tf.global_variables_initializer` instead.\n"
     ]
    },
    {
     "name": "stderr",
     "output_type": "stream",
     "text": [
      "WARNING:tensorflow:From <ipython-input-21-b167d758ab73>:124 in percept10.: initialize_all_variables (from tensorflow.python.ops.variables) is deprecated and will be removed after 2017-03-02.\n",
      "Instructions for updating:\n",
      "Use `tf.global_variables_initializer` instead.\n"
     ]
    },
    {
     "name": "stdout",
     "output_type": "stream",
     "text": [
      "Accuracy: 0.8409\n",
      "Extracting /tmp/data/train-images-idx3-ubyte.gz\n",
      "Extracting /tmp/data/train-labels-idx1-ubyte.gz\n",
      "Extracting /tmp/data/t10k-images-idx3-ubyte.gz\n",
      "Extracting /tmp/data/t10k-labels-idx1-ubyte.gz\n",
      "WARNING:tensorflow:From <ipython-input-21-b167d758ab73>:124 in percept10.: initialize_all_variables (from tensorflow.python.ops.variables) is deprecated and will be removed after 2017-03-02.\n",
      "Instructions for updating:\n",
      "Use `tf.global_variables_initializer` instead.\n"
     ]
    },
    {
     "name": "stderr",
     "output_type": "stream",
     "text": [
      "WARNING:tensorflow:From <ipython-input-21-b167d758ab73>:124 in percept10.: initialize_all_variables (from tensorflow.python.ops.variables) is deprecated and will be removed after 2017-03-02.\n",
      "Instructions for updating:\n",
      "Use `tf.global_variables_initializer` instead.\n"
     ]
    },
    {
     "name": "stdout",
     "output_type": "stream",
     "text": [
      "Accuracy: 0.788\n",
      "NOISE!!!\n",
      "Extracting /tmp/data/train-images-idx3-ubyte.gz\n",
      "Extracting /tmp/data/train-labels-idx1-ubyte.gz\n",
      "Extracting /tmp/data/t10k-images-idx3-ubyte.gz\n",
      "Extracting /tmp/data/t10k-labels-idx1-ubyte.gz\n",
      "WARNING:tensorflow:From <ipython-input-21-b167d758ab73>:124 in percept10.: initialize_all_variables (from tensorflow.python.ops.variables) is deprecated and will be removed after 2017-03-02.\n",
      "Instructions for updating:\n",
      "Use `tf.global_variables_initializer` instead.\n"
     ]
    },
    {
     "name": "stderr",
     "output_type": "stream",
     "text": [
      "WARNING:tensorflow:From <ipython-input-21-b167d758ab73>:124 in percept10.: initialize_all_variables (from tensorflow.python.ops.variables) is deprecated and will be removed after 2017-03-02.\n",
      "Instructions for updating:\n",
      "Use `tf.global_variables_initializer` instead.\n"
     ]
    },
    {
     "name": "stdout",
     "output_type": "stream",
     "text": [
      "Accuracy: 0.7259\n",
      "Extracting /tmp/data/train-images-idx3-ubyte.gz\n",
      "Extracting /tmp/data/train-labels-idx1-ubyte.gz\n",
      "Extracting /tmp/data/t10k-images-idx3-ubyte.gz\n",
      "Extracting /tmp/data/t10k-labels-idx1-ubyte.gz\n",
      "WARNING:tensorflow:From <ipython-input-21-b167d758ab73>:124 in percept10.: initialize_all_variables (from tensorflow.python.ops.variables) is deprecated and will be removed after 2017-03-02.\n",
      "Instructions for updating:\n",
      "Use `tf.global_variables_initializer` instead.\n"
     ]
    },
    {
     "name": "stderr",
     "output_type": "stream",
     "text": [
      "WARNING:tensorflow:From <ipython-input-21-b167d758ab73>:124 in percept10.: initialize_all_variables (from tensorflow.python.ops.variables) is deprecated and will be removed after 2017-03-02.\n",
      "Instructions for updating:\n",
      "Use `tf.global_variables_initializer` instead.\n"
     ]
    },
    {
     "name": "stdout",
     "output_type": "stream",
     "text": [
      "Accuracy: 0.6849\n",
      "Extracting /tmp/data/train-images-idx3-ubyte.gz\n",
      "Extracting /tmp/data/train-labels-idx1-ubyte.gz\n",
      "Extracting /tmp/data/t10k-images-idx3-ubyte.gz\n",
      "Extracting /tmp/data/t10k-labels-idx1-ubyte.gz\n",
      "WARNING:tensorflow:From <ipython-input-21-b167d758ab73>:124 in percept10.: initialize_all_variables (from tensorflow.python.ops.variables) is deprecated and will be removed after 2017-03-02.\n",
      "Instructions for updating:\n",
      "Use `tf.global_variables_initializer` instead.\n"
     ]
    },
    {
     "name": "stderr",
     "output_type": "stream",
     "text": [
      "WARNING:tensorflow:From <ipython-input-21-b167d758ab73>:124 in percept10.: initialize_all_variables (from tensorflow.python.ops.variables) is deprecated and will be removed after 2017-03-02.\n",
      "Instructions for updating:\n",
      "Use `tf.global_variables_initializer` instead.\n"
     ]
    },
    {
     "name": "stdout",
     "output_type": "stream",
     "text": [
      "Accuracy: 0.6908\n",
      "Extracting /tmp/data/train-images-idx3-ubyte.gz\n",
      "Extracting /tmp/data/train-labels-idx1-ubyte.gz\n",
      "Extracting /tmp/data/t10k-images-idx3-ubyte.gz\n",
      "Extracting /tmp/data/t10k-labels-idx1-ubyte.gz\n",
      "WARNING:tensorflow:From <ipython-input-21-b167d758ab73>:124 in percept10.: initialize_all_variables (from tensorflow.python.ops.variables) is deprecated and will be removed after 2017-03-02.\n",
      "Instructions for updating:\n",
      "Use `tf.global_variables_initializer` instead.\n"
     ]
    },
    {
     "name": "stderr",
     "output_type": "stream",
     "text": [
      "WARNING:tensorflow:From <ipython-input-21-b167d758ab73>:124 in percept10.: initialize_all_variables (from tensorflow.python.ops.variables) is deprecated and will be removed after 2017-03-02.\n",
      "Instructions for updating:\n",
      "Use `tf.global_variables_initializer` instead.\n"
     ]
    },
    {
     "name": "stdout",
     "output_type": "stream",
     "text": [
      "Accuracy: 0.7071\n",
      "Extracting /tmp/data/train-images-idx3-ubyte.gz\n",
      "Extracting /tmp/data/train-labels-idx1-ubyte.gz\n",
      "Extracting /tmp/data/t10k-images-idx3-ubyte.gz\n",
      "Extracting /tmp/data/t10k-labels-idx1-ubyte.gz\n",
      "WARNING:tensorflow:From <ipython-input-21-b167d758ab73>:124 in percept10.: initialize_all_variables (from tensorflow.python.ops.variables) is deprecated and will be removed after 2017-03-02.\n",
      "Instructions for updating:\n",
      "Use `tf.global_variables_initializer` instead.\n"
     ]
    },
    {
     "name": "stderr",
     "output_type": "stream",
     "text": [
      "WARNING:tensorflow:From <ipython-input-21-b167d758ab73>:124 in percept10.: initialize_all_variables (from tensorflow.python.ops.variables) is deprecated and will be removed after 2017-03-02.\n",
      "Instructions for updating:\n",
      "Use `tf.global_variables_initializer` instead.\n"
     ]
    },
    {
     "name": "stdout",
     "output_type": "stream",
     "text": [
      "Accuracy: 0.6719\n",
      "Extracting /tmp/data/train-images-idx3-ubyte.gz\n",
      "Extracting /tmp/data/train-labels-idx1-ubyte.gz\n",
      "Extracting /tmp/data/t10k-images-idx3-ubyte.gz\n",
      "Extracting /tmp/data/t10k-labels-idx1-ubyte.gz\n",
      "WARNING:tensorflow:From <ipython-input-21-b167d758ab73>:124 in percept10.: initialize_all_variables (from tensorflow.python.ops.variables) is deprecated and will be removed after 2017-03-02.\n",
      "Instructions for updating:\n",
      "Use `tf.global_variables_initializer` instead.\n"
     ]
    },
    {
     "name": "stderr",
     "output_type": "stream",
     "text": [
      "WARNING:tensorflow:From <ipython-input-21-b167d758ab73>:124 in percept10.: initialize_all_variables (from tensorflow.python.ops.variables) is deprecated and will be removed after 2017-03-02.\n",
      "Instructions for updating:\n",
      "Use `tf.global_variables_initializer` instead.\n"
     ]
    },
    {
     "name": "stdout",
     "output_type": "stream",
     "text": [
      "Accuracy: 0.6839\n",
      "Extracting /tmp/data/train-images-idx3-ubyte.gz\n",
      "Extracting /tmp/data/train-labels-idx1-ubyte.gz\n",
      "Extracting /tmp/data/t10k-images-idx3-ubyte.gz\n",
      "Extracting /tmp/data/t10k-labels-idx1-ubyte.gz\n",
      "WARNING:tensorflow:From <ipython-input-21-b167d758ab73>:124 in percept10.: initialize_all_variables (from tensorflow.python.ops.variables) is deprecated and will be removed after 2017-03-02.\n",
      "Instructions for updating:\n",
      "Use `tf.global_variables_initializer` instead.\n"
     ]
    },
    {
     "name": "stderr",
     "output_type": "stream",
     "text": [
      "WARNING:tensorflow:From <ipython-input-21-b167d758ab73>:124 in percept10.: initialize_all_variables (from tensorflow.python.ops.variables) is deprecated and will be removed after 2017-03-02.\n",
      "Instructions for updating:\n",
      "Use `tf.global_variables_initializer` instead.\n"
     ]
    },
    {
     "name": "stdout",
     "output_type": "stream",
     "text": [
      "Accuracy: 0.692\n",
      "Extracting /tmp/data/train-images-idx3-ubyte.gz\n",
      "Extracting /tmp/data/train-labels-idx1-ubyte.gz\n",
      "Extracting /tmp/data/t10k-images-idx3-ubyte.gz\n",
      "Extracting /tmp/data/t10k-labels-idx1-ubyte.gz\n",
      "WARNING:tensorflow:From <ipython-input-21-b167d758ab73>:124 in percept10.: initialize_all_variables (from tensorflow.python.ops.variables) is deprecated and will be removed after 2017-03-02.\n",
      "Instructions for updating:\n",
      "Use `tf.global_variables_initializer` instead.\n"
     ]
    },
    {
     "name": "stderr",
     "output_type": "stream",
     "text": [
      "WARNING:tensorflow:From <ipython-input-21-b167d758ab73>:124 in percept10.: initialize_all_variables (from tensorflow.python.ops.variables) is deprecated and will be removed after 2017-03-02.\n",
      "Instructions for updating:\n",
      "Use `tf.global_variables_initializer` instead.\n"
     ]
    },
    {
     "name": "stdout",
     "output_type": "stream",
     "text": [
      "Accuracy: 0.6465\n",
      "Extracting /tmp/data/train-images-idx3-ubyte.gz\n",
      "Extracting /tmp/data/train-labels-idx1-ubyte.gz\n",
      "Extracting /tmp/data/t10k-images-idx3-ubyte.gz\n",
      "Extracting /tmp/data/t10k-labels-idx1-ubyte.gz\n",
      "WARNING:tensorflow:From <ipython-input-21-b167d758ab73>:124 in percept10.: initialize_all_variables (from tensorflow.python.ops.variables) is deprecated and will be removed after 2017-03-02.\n",
      "Instructions for updating:\n",
      "Use `tf.global_variables_initializer` instead.\n"
     ]
    },
    {
     "name": "stderr",
     "output_type": "stream",
     "text": [
      "WARNING:tensorflow:From <ipython-input-21-b167d758ab73>:124 in percept10.: initialize_all_variables (from tensorflow.python.ops.variables) is deprecated and will be removed after 2017-03-02.\n",
      "Instructions for updating:\n",
      "Use `tf.global_variables_initializer` instead.\n"
     ]
    },
    {
     "name": "stdout",
     "output_type": "stream",
     "text": [
      "Accuracy: 0.6202\n",
      "Extracting /tmp/data/train-images-idx3-ubyte.gz\n",
      "Extracting /tmp/data/train-labels-idx1-ubyte.gz\n",
      "Extracting /tmp/data/t10k-images-idx3-ubyte.gz\n",
      "Extracting /tmp/data/t10k-labels-idx1-ubyte.gz\n",
      "WARNING:tensorflow:From <ipython-input-21-b167d758ab73>:124 in percept10.: initialize_all_variables (from tensorflow.python.ops.variables) is deprecated and will be removed after 2017-03-02.\n",
      "Instructions for updating:\n",
      "Use `tf.global_variables_initializer` instead.\n"
     ]
    },
    {
     "name": "stderr",
     "output_type": "stream",
     "text": [
      "WARNING:tensorflow:From <ipython-input-21-b167d758ab73>:124 in percept10.: initialize_all_variables (from tensorflow.python.ops.variables) is deprecated and will be removed after 2017-03-02.\n",
      "Instructions for updating:\n",
      "Use `tf.global_variables_initializer` instead.\n"
     ]
    },
    {
     "name": "stdout",
     "output_type": "stream",
     "text": [
      "Accuracy: 0.6642\n"
     ]
    }
   ],
   "source": [
    "noNoiseAcc, noiseAcc = test1()"
   ]
  },
  {
   "cell_type": "code",
   "execution_count": 24,
   "metadata": {
    "collapsed": false
   },
   "outputs": [
    {
     "data": {
      "text/plain": [
       "[<tf.Tensor 'Mean_21:0' shape=() dtype=float32>,\n",
       " <tf.Tensor 'Mean_23:0' shape=() dtype=float32>,\n",
       " <tf.Tensor 'Mean_25:0' shape=() dtype=float32>,\n",
       " <tf.Tensor 'Mean_27:0' shape=() dtype=float32>,\n",
       " <tf.Tensor 'Mean_29:0' shape=() dtype=float32>,\n",
       " <tf.Tensor 'Mean_31:0' shape=() dtype=float32>,\n",
       " <tf.Tensor 'Mean_33:0' shape=() dtype=float32>,\n",
       " <tf.Tensor 'Mean_35:0' shape=() dtype=float32>,\n",
       " <tf.Tensor 'Mean_37:0' shape=() dtype=float32>,\n",
       " <tf.Tensor 'Mean_39:0' shape=() dtype=float32>]"
      ]
     },
     "execution_count": 24,
     "metadata": {},
     "output_type": "execute_result"
    }
   ],
   "source": [
    "noNoiseAcc"
   ]
  },
  {
   "cell_type": "code",
   "execution_count": 29,
   "metadata": {
    "collapsed": true
   },
   "outputs": [],
   "source": [
    "noNoise1 = [0.8333, 0.7024, 0.8671,  0.7777, 0.8362,  0.7132, 0.8217, 0.8577, 0.8409, 0.788]"
   ]
  },
  {
   "cell_type": "code",
   "execution_count": 30,
   "metadata": {
    "collapsed": true
   },
   "outputs": [],
   "source": [
    "noise1 = [0.7259, 0.6849, 0.6908, 0.7071, 0.6719, 0.6839,  0.692, 0.6465, 0.6202,  0.6642 ]"
   ]
  },
  {
   "cell_type": "code",
   "execution_count": 37,
   "metadata": {
    "collapsed": false
   },
   "outputs": [
    {
     "name": "stdout",
     "output_type": "stream",
     "text": [
      "0.80382\n",
      "0.67874\n"
     ]
    }
   ],
   "source": [
    "import numpy as np\n",
    "print(np.mean(noNoise1))\n",
    "print(np.mean(noise1))"
   ]
  },
  {
   "cell_type": "markdown",
   "metadata": {},
   "source": [
    "We will now try the experiment at 30 epochs. "
   ]
  },
  {
   "cell_type": "code",
   "execution_count": 42,
   "metadata": {
    "collapsed": true
   },
   "outputs": [],
   "source": [
    "def test2():\n",
    "    noNoiseAcc = [0]*10\n",
    "    noiseAcc = [0]*10\n",
    "    \n",
    "    #With no noise\n",
    "    print(\"NO NOISE!!!\")\n",
    "    for i in range(10):\n",
    "        noNoiseAcc[i] = percept10(noise=0, lr =.005, n_hidden = 50, numEpochs = 30)\n",
    "        \n",
    "    #With noise\n",
    "    print(\"NOISE!!!\")\n",
    "    for i in range(10):\n",
    "        noiseAcc[i] = percept10(noise=1, lr =.005, n_hidden = 50, numEpochs = 30)\n",
    "        \n",
    "    return noNoiseAcc, noiseAcc"
   ]
  },
  {
   "cell_type": "code",
   "execution_count": 43,
   "metadata": {
    "collapsed": false
   },
   "outputs": [
    {
     "name": "stdout",
     "output_type": "stream",
     "text": [
      "NO NOISE!!!\n",
      "Extracting /tmp/data/train-images-idx3-ubyte.gz\n",
      "Extracting /tmp/data/train-labels-idx1-ubyte.gz\n",
      "Extracting /tmp/data/t10k-images-idx3-ubyte.gz\n",
      "Extracting /tmp/data/t10k-labels-idx1-ubyte.gz\n",
      "WARNING:tensorflow:From <ipython-input-41-34c090765b05>:124 in percept10.: initialize_all_variables (from tensorflow.python.ops.variables) is deprecated and will be removed after 2017-03-02.\n",
      "Instructions for updating:\n",
      "Use `tf.global_variables_initializer` instead.\n"
     ]
    },
    {
     "name": "stderr",
     "output_type": "stream",
     "text": [
      "WARNING:tensorflow:From <ipython-input-41-34c090765b05>:124 in percept10.: initialize_all_variables (from tensorflow.python.ops.variables) is deprecated and will be removed after 2017-03-02.\n",
      "Instructions for updating:\n",
      "Use `tf.global_variables_initializer` instead.\n"
     ]
    },
    {
     "name": "stdout",
     "output_type": "stream",
     "text": [
      "Epoch: 0001 cost= 2.308922011\n",
      "Epoch: 0002 cost= 2.297599703\n",
      "Epoch: 0003 cost= 2.286727290\n",
      "Epoch: 0004 cost= 2.270680265\n",
      "Epoch: 0005 cost= 2.238699178\n",
      "Epoch: 0006 cost= 2.156078348\n",
      "Epoch: 0007 cost= 1.958667235\n",
      "Epoch: 0008 cost= 1.638967583\n",
      "Epoch: 0009 cost= 1.265686341\n",
      "Epoch: 0010 cost= 1.029916122\n",
      "Epoch: 0011 cost= 0.891710571\n",
      "Epoch: 0012 cost= 0.794224846\n",
      "Epoch: 0013 cost= 0.722688301\n",
      "Epoch: 0014 cost= 0.665491140\n",
      "Epoch: 0015 cost= 0.612503959\n",
      "Epoch: 0016 cost= 0.573697970\n",
      "Epoch: 0017 cost= 0.533992631\n",
      "Epoch: 0018 cost= 0.502323254\n",
      "Epoch: 0019 cost= 0.476191879\n",
      "Epoch: 0020 cost= 0.445128516\n",
      "Epoch: 0021 cost= 0.423382921\n",
      "Epoch: 0022 cost= 0.403598210\n",
      "Epoch: 0023 cost= 0.382726581\n",
      "Epoch: 0024 cost= 0.367767693\n",
      "Epoch: 0025 cost= 0.351580595\n",
      "Epoch: 0026 cost= 0.336313111\n",
      "Epoch: 0027 cost= 0.324204724\n",
      "Epoch: 0028 cost= 0.315008204\n",
      "Epoch: 0029 cost= 0.304267843\n",
      "Epoch: 0030 cost= 0.291669736\n",
      "Optimization Finished!\n",
      "Accuracy: 0.9125\n",
      "Extracting /tmp/data/train-images-idx3-ubyte.gz\n",
      "Extracting /tmp/data/train-labels-idx1-ubyte.gz\n",
      "Extracting /tmp/data/t10k-images-idx3-ubyte.gz\n",
      "Extracting /tmp/data/t10k-labels-idx1-ubyte.gz\n",
      "WARNING:tensorflow:From <ipython-input-41-34c090765b05>:124 in percept10.: initialize_all_variables (from tensorflow.python.ops.variables) is deprecated and will be removed after 2017-03-02.\n",
      "Instructions for updating:\n",
      "Use `tf.global_variables_initializer` instead.\n"
     ]
    },
    {
     "name": "stderr",
     "output_type": "stream",
     "text": [
      "WARNING:tensorflow:From <ipython-input-41-34c090765b05>:124 in percept10.: initialize_all_variables (from tensorflow.python.ops.variables) is deprecated and will be removed after 2017-03-02.\n",
      "Instructions for updating:\n",
      "Use `tf.global_variables_initializer` instead.\n"
     ]
    },
    {
     "name": "stdout",
     "output_type": "stream",
     "text": [
      "Epoch: 0001 cost= 2.304845015\n",
      "Epoch: 0002 cost= 2.296956547\n",
      "Epoch: 0003 cost= 2.289803804\n",
      "Epoch: 0004 cost= 2.280017806\n",
      "Epoch: 0005 cost= 2.262494503\n",
      "Epoch: 0006 cost= 2.221839924\n",
      "Epoch: 0007 cost= 2.123042118\n",
      "Epoch: 0008 cost= 1.895279951\n",
      "Epoch: 0009 cost= 1.507793982\n",
      "Epoch: 0010 cost= 1.170274974\n",
      "Epoch: 0011 cost= 0.983230373\n",
      "Epoch: 0012 cost= 0.859934184\n",
      "Epoch: 0013 cost= 0.762356774\n",
      "Epoch: 0014 cost= 0.687930419\n",
      "Epoch: 0015 cost= 0.619427356\n",
      "Epoch: 0016 cost= 0.554804626\n",
      "Epoch: 0017 cost= 0.508926300\n",
      "Epoch: 0018 cost= 0.471127832\n",
      "Epoch: 0019 cost= 0.436788933\n",
      "Epoch: 0020 cost= 0.414143350\n",
      "Epoch: 0021 cost= 0.391532573\n",
      "Epoch: 0022 cost= 0.374960563\n",
      "Epoch: 0023 cost= 0.360029904\n",
      "Epoch: 0024 cost= 0.349188700\n",
      "Epoch: 0025 cost= 0.334947372\n",
      "Epoch: 0026 cost= 0.324854024\n",
      "Epoch: 0027 cost= 0.315317291\n",
      "Epoch: 0028 cost= 0.306032270\n",
      "Epoch: 0029 cost= 0.299012644\n",
      "Epoch: 0030 cost= 0.290900849\n",
      "Optimization Finished!\n",
      "Accuracy: 0.9139\n",
      "Extracting /tmp/data/train-images-idx3-ubyte.gz\n",
      "Extracting /tmp/data/train-labels-idx1-ubyte.gz\n",
      "Extracting /tmp/data/t10k-images-idx3-ubyte.gz\n",
      "Extracting /tmp/data/t10k-labels-idx1-ubyte.gz\n",
      "WARNING:tensorflow:From <ipython-input-41-34c090765b05>:124 in percept10.: initialize_all_variables (from tensorflow.python.ops.variables) is deprecated and will be removed after 2017-03-02.\n",
      "Instructions for updating:\n",
      "Use `tf.global_variables_initializer` instead.\n"
     ]
    },
    {
     "name": "stderr",
     "output_type": "stream",
     "text": [
      "WARNING:tensorflow:From <ipython-input-41-34c090765b05>:124 in percept10.: initialize_all_variables (from tensorflow.python.ops.variables) is deprecated and will be removed after 2017-03-02.\n",
      "Instructions for updating:\n",
      "Use `tf.global_variables_initializer` instead.\n"
     ]
    },
    {
     "name": "stdout",
     "output_type": "stream",
     "text": [
      "Epoch: 0001 cost= 2.318872969\n",
      "Epoch: 0002 cost= 2.290666988\n",
      "Epoch: 0003 cost= 2.259853524\n",
      "Epoch: 0004 cost= 2.199877879\n",
      "Epoch: 0005 cost= 2.072924972\n",
      "Epoch: 0006 cost= 1.819336824\n",
      "Epoch: 0007 cost= 1.519591051\n",
      "Epoch: 0008 cost= 1.165645830\n",
      "Epoch: 0009 cost= 0.949833912\n",
      "Epoch: 0010 cost= 0.823818540\n",
      "Epoch: 0011 cost= 0.729135022\n",
      "Epoch: 0012 cost= 0.653801528\n",
      "Epoch: 0013 cost= 0.601544821\n",
      "Epoch: 0014 cost= 0.560430328\n",
      "Epoch: 0015 cost= 0.523155687\n",
      "Epoch: 0016 cost= 0.494672250\n",
      "Epoch: 0017 cost= 0.472758226\n",
      "Epoch: 0018 cost= 0.450077507\n",
      "Epoch: 0019 cost= 0.431630283\n",
      "Epoch: 0020 cost= 0.414335717\n",
      "Epoch: 0021 cost= 0.399322217\n",
      "Epoch: 0022 cost= 0.385839302\n",
      "Epoch: 0023 cost= 0.373064972\n",
      "Epoch: 0024 cost= 0.361328467\n",
      "Epoch: 0025 cost= 0.351594861\n",
      "Epoch: 0026 cost= 0.342124794\n",
      "Epoch: 0027 cost= 0.334295065\n",
      "Epoch: 0028 cost= 0.325427312\n",
      "Epoch: 0029 cost= 0.315984474\n",
      "Epoch: 0030 cost= 0.308898732\n",
      "Optimization Finished!\n",
      "Accuracy: 0.9085\n",
      "Extracting /tmp/data/train-images-idx3-ubyte.gz\n",
      "Extracting /tmp/data/train-labels-idx1-ubyte.gz\n",
      "Extracting /tmp/data/t10k-images-idx3-ubyte.gz\n",
      "Extracting /tmp/data/t10k-labels-idx1-ubyte.gz\n",
      "WARNING:tensorflow:From <ipython-input-41-34c090765b05>:124 in percept10.: initialize_all_variables (from tensorflow.python.ops.variables) is deprecated and will be removed after 2017-03-02.\n",
      "Instructions for updating:\n",
      "Use `tf.global_variables_initializer` instead.\n"
     ]
    },
    {
     "name": "stderr",
     "output_type": "stream",
     "text": [
      "WARNING:tensorflow:From <ipython-input-41-34c090765b05>:124 in percept10.: initialize_all_variables (from tensorflow.python.ops.variables) is deprecated and will be removed after 2017-03-02.\n",
      "Instructions for updating:\n",
      "Use `tf.global_variables_initializer` instead.\n"
     ]
    },
    {
     "name": "stdout",
     "output_type": "stream",
     "text": [
      "Epoch: 0001 cost= 2.314771734\n",
      "Epoch: 0002 cost= 2.300084534\n",
      "Epoch: 0003 cost= 2.292848845\n",
      "Epoch: 0004 cost= 2.283490138\n",
      "Epoch: 0005 cost= 2.265261949\n",
      "Epoch: 0006 cost= 2.222619610\n",
      "Epoch: 0007 cost= 2.107241817\n",
      "Epoch: 0008 cost= 1.812433681\n",
      "Epoch: 0009 cost= 1.417730121\n",
      "Epoch: 0010 cost= 1.189973292\n",
      "Epoch: 0011 cost= 1.030080845\n",
      "Epoch: 0012 cost= 0.884885289\n",
      "Epoch: 0013 cost= 0.765224296\n",
      "Epoch: 0014 cost= 0.689233723\n",
      "Epoch: 0015 cost= 0.635365243\n",
      "Epoch: 0016 cost= 0.589087449\n",
      "Epoch: 0017 cost= 0.549774501\n",
      "Epoch: 0018 cost= 0.517295349\n",
      "Epoch: 0019 cost= 0.493391464\n",
      "Epoch: 0020 cost= 0.468808890\n",
      "Epoch: 0021 cost= 0.447670082\n",
      "Epoch: 0022 cost= 0.426210754\n",
      "Epoch: 0023 cost= 0.411426808\n",
      "Epoch: 0024 cost= 0.392405651\n",
      "Epoch: 0025 cost= 0.378425102\n",
      "Epoch: 0026 cost= 0.363283656\n",
      "Epoch: 0027 cost= 0.355931606\n",
      "Epoch: 0028 cost= 0.341313647\n",
      "Epoch: 0029 cost= 0.330253499\n",
      "Epoch: 0030 cost= 0.324321973\n",
      "Optimization Finished!\n",
      "Accuracy: 0.9046\n",
      "Extracting /tmp/data/train-images-idx3-ubyte.gz\n",
      "Extracting /tmp/data/train-labels-idx1-ubyte.gz\n",
      "Extracting /tmp/data/t10k-images-idx3-ubyte.gz\n",
      "Extracting /tmp/data/t10k-labels-idx1-ubyte.gz\n",
      "WARNING:tensorflow:From <ipython-input-41-34c090765b05>:124 in percept10.: initialize_all_variables (from tensorflow.python.ops.variables) is deprecated and will be removed after 2017-03-02.\n",
      "Instructions for updating:\n",
      "Use `tf.global_variables_initializer` instead.\n"
     ]
    },
    {
     "name": "stderr",
     "output_type": "stream",
     "text": [
      "WARNING:tensorflow:From <ipython-input-41-34c090765b05>:124 in percept10.: initialize_all_variables (from tensorflow.python.ops.variables) is deprecated and will be removed after 2017-03-02.\n",
      "Instructions for updating:\n",
      "Use `tf.global_variables_initializer` instead.\n"
     ]
    },
    {
     "name": "stdout",
     "output_type": "stream",
     "text": [
      "Epoch: 0001 cost= 2.305032405\n",
      "Epoch: 0002 cost= 2.289581258\n",
      "Epoch: 0003 cost= 2.264725819\n",
      "Epoch: 0004 cost= 2.209655111\n",
      "Epoch: 0005 cost= 2.126212155\n",
      "Epoch: 0006 cost= 2.032460678\n",
      "Epoch: 0007 cost= 1.857305051\n",
      "Epoch: 0008 cost= 1.483980839\n",
      "Epoch: 0009 cost= 1.182755894\n",
      "Epoch: 0010 cost= 1.038868401\n",
      "Epoch: 0011 cost= 0.935573177\n",
      "Epoch: 0012 cost= 0.841846102\n",
      "Epoch: 0013 cost= 0.759170090\n",
      "Epoch: 0014 cost= 0.690186795\n",
      "Epoch: 0015 cost= 0.637071288\n",
      "Epoch: 0016 cost= 0.588457691\n",
      "Epoch: 0017 cost= 0.553535172\n",
      "Epoch: 0018 cost= 0.517450856\n",
      "Epoch: 0019 cost= 0.492978549\n",
      "Epoch: 0020 cost= 0.465120779\n",
      "Epoch: 0021 cost= 0.444381348\n",
      "Epoch: 0022 cost= 0.423475328\n",
      "Epoch: 0023 cost= 0.405552789\n",
      "Epoch: 0024 cost= 0.389564381\n",
      "Epoch: 0025 cost= 0.375163120\n",
      "Epoch: 0026 cost= 0.360904978\n",
      "Epoch: 0027 cost= 0.348986942\n",
      "Epoch: 0028 cost= 0.337530140\n",
      "Epoch: 0029 cost= 0.326442096\n",
      "Epoch: 0030 cost= 0.315789258\n",
      "Optimization Finished!\n",
      "Accuracy: 0.9085\n",
      "Extracting /tmp/data/train-images-idx3-ubyte.gz\n",
      "Extracting /tmp/data/train-labels-idx1-ubyte.gz\n",
      "Extracting /tmp/data/t10k-images-idx3-ubyte.gz\n",
      "Extracting /tmp/data/t10k-labels-idx1-ubyte.gz\n",
      "WARNING:tensorflow:From <ipython-input-41-34c090765b05>:124 in percept10.: initialize_all_variables (from tensorflow.python.ops.variables) is deprecated and will be removed after 2017-03-02.\n",
      "Instructions for updating:\n",
      "Use `tf.global_variables_initializer` instead.\n"
     ]
    },
    {
     "name": "stderr",
     "output_type": "stream",
     "text": [
      "WARNING:tensorflow:From <ipython-input-41-34c090765b05>:124 in percept10.: initialize_all_variables (from tensorflow.python.ops.variables) is deprecated and will be removed after 2017-03-02.\n",
      "Instructions for updating:\n",
      "Use `tf.global_variables_initializer` instead.\n"
     ]
    },
    {
     "name": "stdout",
     "output_type": "stream",
     "text": [
      "Epoch: 0001 cost= 2.304742432\n",
      "Epoch: 0002 cost= 2.295529251\n",
      "Epoch: 0003 cost= 2.285073410\n",
      "Epoch: 0004 cost= 2.269393075\n",
      "Epoch: 0005 cost= 2.238073901\n",
      "Epoch: 0006 cost= 2.160585624\n",
      "Epoch: 0007 cost= 1.996339826\n",
      "Epoch: 0008 cost= 1.698491044\n",
      "Epoch: 0009 cost= 1.319358103\n",
      "Epoch: 0010 cost= 1.072852366\n",
      "Epoch: 0011 cost= 0.883974928\n",
      "Epoch: 0012 cost= 0.754165921\n",
      "Epoch: 0013 cost= 0.661819292\n",
      "Epoch: 0014 cost= 0.594875795\n",
      "Epoch: 0015 cost= 0.539790921\n",
      "Epoch: 0016 cost= 0.497224036\n",
      "Epoch: 0017 cost= 0.464256368\n",
      "Epoch: 0018 cost= 0.432528344\n",
      "Epoch: 0019 cost= 0.410100388\n",
      "Epoch: 0020 cost= 0.388322022\n",
      "Epoch: 0021 cost= 0.370035594\n",
      "Epoch: 0022 cost= 0.354021559\n",
      "Epoch: 0023 cost= 0.339338528\n",
      "Epoch: 0024 cost= 0.328087725\n",
      "Epoch: 0025 cost= 0.316395939\n",
      "Epoch: 0026 cost= 0.306141138\n",
      "Epoch: 0027 cost= 0.295940698\n",
      "Epoch: 0028 cost= 0.289031913\n",
      "Epoch: 0029 cost= 0.279488275\n",
      "Epoch: 0030 cost= 0.272792806\n",
      "Optimization Finished!\n",
      "Accuracy: 0.917\n",
      "Extracting /tmp/data/train-images-idx3-ubyte.gz\n",
      "Extracting /tmp/data/train-labels-idx1-ubyte.gz\n",
      "Extracting /tmp/data/t10k-images-idx3-ubyte.gz\n",
      "Extracting /tmp/data/t10k-labels-idx1-ubyte.gz\n",
      "WARNING:tensorflow:From <ipython-input-41-34c090765b05>:124 in percept10.: initialize_all_variables (from tensorflow.python.ops.variables) is deprecated and will be removed after 2017-03-02.\n",
      "Instructions for updating:\n",
      "Use `tf.global_variables_initializer` instead.\n"
     ]
    },
    {
     "name": "stderr",
     "output_type": "stream",
     "text": [
      "WARNING:tensorflow:From <ipython-input-41-34c090765b05>:124 in percept10.: initialize_all_variables (from tensorflow.python.ops.variables) is deprecated and will be removed after 2017-03-02.\n",
      "Instructions for updating:\n",
      "Use `tf.global_variables_initializer` instead.\n"
     ]
    },
    {
     "name": "stdout",
     "output_type": "stream",
     "text": [
      "Epoch: 0001 cost= 2.313045229\n",
      "Epoch: 0002 cost= 2.303666885\n",
      "Epoch: 0003 cost= 2.296145789\n",
      "Epoch: 0004 cost= 2.287966686\n",
      "Epoch: 0005 cost= 2.277397868\n",
      "Epoch: 0006 cost= 2.261368417\n",
      "Epoch: 0007 cost= 2.231835496\n",
      "Epoch: 0008 cost= 2.160814249\n",
      "Epoch: 0009 cost= 1.977448128\n",
      "Epoch: 0010 cost= 1.720055342\n",
      "Epoch: 0011 cost= 1.475964742\n",
      "Epoch: 0012 cost= 1.214458248\n",
      "Epoch: 0013 cost= 1.048175179\n",
      "Epoch: 0014 cost= 0.936507066\n",
      "Epoch: 0015 cost= 0.861765844\n",
      "Epoch: 0016 cost= 0.798223993\n",
      "Epoch: 0017 cost= 0.743464551\n",
      "Epoch: 0018 cost= 0.693903801\n",
      "Epoch: 0019 cost= 0.651218492\n",
      "Epoch: 0020 cost= 0.604116023\n",
      "Epoch: 0021 cost= 0.563046611\n",
      "Epoch: 0022 cost= 0.532697632\n",
      "Epoch: 0023 cost= 0.500257230\n",
      "Epoch: 0024 cost= 0.474978917\n",
      "Epoch: 0025 cost= 0.450939214\n",
      "Epoch: 0026 cost= 0.434270602\n",
      "Epoch: 0027 cost= 0.416592560\n",
      "Epoch: 0028 cost= 0.403230990\n",
      "Epoch: 0029 cost= 0.389531403\n",
      "Epoch: 0030 cost= 0.380843846\n",
      "Optimization Finished!\n",
      "Accuracy: 0.8845\n",
      "Extracting /tmp/data/train-images-idx3-ubyte.gz\n",
      "Extracting /tmp/data/train-labels-idx1-ubyte.gz\n",
      "Extracting /tmp/data/t10k-images-idx3-ubyte.gz\n",
      "Extracting /tmp/data/t10k-labels-idx1-ubyte.gz\n",
      "WARNING:tensorflow:From <ipython-input-41-34c090765b05>:124 in percept10.: initialize_all_variables (from tensorflow.python.ops.variables) is deprecated and will be removed after 2017-03-02.\n",
      "Instructions for updating:\n",
      "Use `tf.global_variables_initializer` instead.\n"
     ]
    },
    {
     "name": "stderr",
     "output_type": "stream",
     "text": [
      "WARNING:tensorflow:From <ipython-input-41-34c090765b05>:124 in percept10.: initialize_all_variables (from tensorflow.python.ops.variables) is deprecated and will be removed after 2017-03-02.\n",
      "Instructions for updating:\n",
      "Use `tf.global_variables_initializer` instead.\n"
     ]
    },
    {
     "name": "stdout",
     "output_type": "stream",
     "text": [
      "Epoch: 0001 cost= 2.316020243\n",
      "Epoch: 0002 cost= 2.295683083\n",
      "Epoch: 0003 cost= 2.281041515\n",
      "Epoch: 0004 cost= 2.257236915\n",
      "Epoch: 0005 cost= 2.202034081\n",
      "Epoch: 0006 cost= 2.061076716\n",
      "Epoch: 0007 cost= 1.811427916\n",
      "Epoch: 0008 cost= 1.435793535\n",
      "Epoch: 0009 cost= 1.096202900\n",
      "Epoch: 0010 cost= 0.887138128\n",
      "Epoch: 0011 cost= 0.766342130\n",
      "Epoch: 0012 cost= 0.688059696\n",
      "Epoch: 0013 cost= 0.629351975\n",
      "Epoch: 0014 cost= 0.583454059\n",
      "Epoch: 0015 cost= 0.549006427\n",
      "Epoch: 0016 cost= 0.518342719\n",
      "Epoch: 0017 cost= 0.492784010\n",
      "Epoch: 0018 cost= 0.470081622\n",
      "Epoch: 0019 cost= 0.450870171\n",
      "Epoch: 0020 cost= 0.433409586\n",
      "Epoch: 0021 cost= 0.415332321\n",
      "Epoch: 0022 cost= 0.401505599\n",
      "Epoch: 0023 cost= 0.387225566\n",
      "Epoch: 0024 cost= 0.375795423\n",
      "Epoch: 0025 cost= 0.364746677\n",
      "Epoch: 0026 cost= 0.352741033\n",
      "Epoch: 0027 cost= 0.343156387\n",
      "Epoch: 0028 cost= 0.331021581\n",
      "Epoch: 0029 cost= 0.322732015\n",
      "Epoch: 0030 cost= 0.315323482\n",
      "Optimization Finished!\n",
      "Accuracy: 0.9102\n",
      "Extracting /tmp/data/train-images-idx3-ubyte.gz\n",
      "Extracting /tmp/data/train-labels-idx1-ubyte.gz\n",
      "Extracting /tmp/data/t10k-images-idx3-ubyte.gz\n",
      "Extracting /tmp/data/t10k-labels-idx1-ubyte.gz\n",
      "WARNING:tensorflow:From <ipython-input-41-34c090765b05>:124 in percept10.: initialize_all_variables (from tensorflow.python.ops.variables) is deprecated and will be removed after 2017-03-02.\n",
      "Instructions for updating:\n",
      "Use `tf.global_variables_initializer` instead.\n"
     ]
    },
    {
     "name": "stderr",
     "output_type": "stream",
     "text": [
      "WARNING:tensorflow:From <ipython-input-41-34c090765b05>:124 in percept10.: initialize_all_variables (from tensorflow.python.ops.variables) is deprecated and will be removed after 2017-03-02.\n",
      "Instructions for updating:\n",
      "Use `tf.global_variables_initializer` instead.\n"
     ]
    },
    {
     "name": "stdout",
     "output_type": "stream",
     "text": [
      "Epoch: 0001 cost= 2.320392621\n",
      "Epoch: 0002 cost= 2.296838379\n",
      "Epoch: 0003 cost= 2.280138984\n",
      "Epoch: 0004 cost= 2.251374099\n",
      "Epoch: 0005 cost= 2.161964064\n",
      "Epoch: 0006 cost= 1.906628787\n",
      "Epoch: 0007 cost= 1.532349638\n",
      "Epoch: 0008 cost= 1.181052763\n",
      "Epoch: 0009 cost= 0.979198543\n",
      "Epoch: 0010 cost= 0.870585031\n",
      "Epoch: 0011 cost= 0.792280987\n",
      "Epoch: 0012 cost= 0.727726608\n",
      "Epoch: 0013 cost= 0.673794584\n",
      "Epoch: 0014 cost= 0.625217909\n",
      "Epoch: 0015 cost= 0.583858778\n",
      "Epoch: 0016 cost= 0.546514794\n",
      "Epoch: 0017 cost= 0.512365106\n",
      "Epoch: 0018 cost= 0.481158880\n",
      "Epoch: 0019 cost= 0.458118492\n",
      "Epoch: 0020 cost= 0.437389202\n",
      "Epoch: 0021 cost= 0.417497471\n",
      "Epoch: 0022 cost= 0.399449295\n",
      "Epoch: 0023 cost= 0.384989203\n",
      "Epoch: 0024 cost= 0.368820487\n",
      "Epoch: 0025 cost= 0.355833131\n",
      "Epoch: 0026 cost= 0.345201696\n",
      "Epoch: 0027 cost= 0.334074229\n",
      "Epoch: 0028 cost= 0.324160818\n",
      "Epoch: 0029 cost= 0.315623146\n",
      "Epoch: 0030 cost= 0.306215312\n",
      "Optimization Finished!\n",
      "Accuracy: 0.9119\n",
      "Extracting /tmp/data/train-images-idx3-ubyte.gz\n",
      "Extracting /tmp/data/train-labels-idx1-ubyte.gz\n",
      "Extracting /tmp/data/t10k-images-idx3-ubyte.gz\n",
      "Extracting /tmp/data/t10k-labels-idx1-ubyte.gz\n",
      "WARNING:tensorflow:From <ipython-input-41-34c090765b05>:124 in percept10.: initialize_all_variables (from tensorflow.python.ops.variables) is deprecated and will be removed after 2017-03-02.\n",
      "Instructions for updating:\n",
      "Use `tf.global_variables_initializer` instead.\n"
     ]
    },
    {
     "name": "stderr",
     "output_type": "stream",
     "text": [
      "WARNING:tensorflow:From <ipython-input-41-34c090765b05>:124 in percept10.: initialize_all_variables (from tensorflow.python.ops.variables) is deprecated and will be removed after 2017-03-02.\n",
      "Instructions for updating:\n",
      "Use `tf.global_variables_initializer` instead.\n"
     ]
    },
    {
     "name": "stdout",
     "output_type": "stream",
     "text": [
      "Epoch: 0001 cost= 2.312250105\n",
      "Epoch: 0002 cost= 2.291409816\n",
      "Epoch: 0003 cost= 2.258215539\n",
      "Epoch: 0004 cost= 2.180567995\n",
      "Epoch: 0005 cost= 2.035721452\n",
      "Epoch: 0006 cost= 1.890887558\n",
      "Epoch: 0007 cost= 1.738511556\n",
      "Epoch: 0008 cost= 1.586301103\n",
      "Epoch: 0009 cost= 1.438475942\n",
      "Epoch: 0010 cost= 1.255884998\n",
      "Epoch: 0011 cost= 1.059878061\n",
      "Epoch: 0012 cost= 0.893172304\n",
      "Epoch: 0013 cost= 0.754551455\n",
      "Epoch: 0014 cost= 0.657783535\n",
      "Epoch: 0015 cost= 0.596941132\n",
      "Epoch: 0016 cost= 0.553178826\n",
      "Epoch: 0017 cost= 0.519177313\n",
      "Epoch: 0018 cost= 0.491407995\n",
      "Epoch: 0019 cost= 0.467797557\n",
      "Epoch: 0020 cost= 0.446378722\n",
      "Epoch: 0021 cost= 0.429430762\n",
      "Epoch: 0022 cost= 0.412026149\n",
      "Epoch: 0023 cost= 0.397890344\n",
      "Epoch: 0024 cost= 0.381524685\n",
      "Epoch: 0025 cost= 0.369880586\n",
      "Epoch: 0026 cost= 0.357693298\n",
      "Epoch: 0027 cost= 0.346242655\n",
      "Epoch: 0028 cost= 0.335678834\n",
      "Epoch: 0029 cost= 0.326258288\n",
      "Epoch: 0030 cost= 0.317263835\n",
      "Optimization Finished!\n",
      "Accuracy: 0.9053\n",
      "NOISE!!!\n",
      "Extracting /tmp/data/train-images-idx3-ubyte.gz\n",
      "Extracting /tmp/data/train-labels-idx1-ubyte.gz\n",
      "Extracting /tmp/data/t10k-images-idx3-ubyte.gz\n",
      "Extracting /tmp/data/t10k-labels-idx1-ubyte.gz\n",
      "WARNING:tensorflow:From <ipython-input-41-34c090765b05>:124 in percept10.: initialize_all_variables (from tensorflow.python.ops.variables) is deprecated and will be removed after 2017-03-02.\n",
      "Instructions for updating:\n",
      "Use `tf.global_variables_initializer` instead.\n"
     ]
    },
    {
     "name": "stderr",
     "output_type": "stream",
     "text": [
      "WARNING:tensorflow:From <ipython-input-41-34c090765b05>:124 in percept10.: initialize_all_variables (from tensorflow.python.ops.variables) is deprecated and will be removed after 2017-03-02.\n",
      "Instructions for updating:\n",
      "Use `tf.global_variables_initializer` instead.\n"
     ]
    },
    {
     "name": "stdout",
     "output_type": "stream",
     "text": [
      "Epoch: 0001 cost= 2.314308525\n",
      "Epoch: 0002 cost= 2.294086158\n",
      "Epoch: 0003 cost= 2.132504649\n",
      "Epoch: 0004 cost= 1.660879870\n",
      "Epoch: 0005 cost= 1.346494506\n",
      "Epoch: 0006 cost= 1.195992502\n",
      "Epoch: 0007 cost= 1.126923233\n",
      "Epoch: 0008 cost= 1.146528210\n",
      "Epoch: 0009 cost= 1.162482510\n",
      "Epoch: 0010 cost= 1.119358547\n",
      "Epoch: 0011 cost= 1.101717927\n",
      "Epoch: 0012 cost= 1.095391780\n",
      "Epoch: 0013 cost= 1.129308947\n",
      "Epoch: 0014 cost= 1.126642018\n",
      "Epoch: 0015 cost= 1.135000170\n",
      "Epoch: 0016 cost= 1.077605931\n",
      "Epoch: 0017 cost= 1.121810481\n",
      "Epoch: 0018 cost= 1.119023090\n",
      "Epoch: 0019 cost= 1.120603507\n",
      "Epoch: 0020 cost= 1.158457606\n",
      "Epoch: 0021 cost= 1.131188321\n",
      "Epoch: 0022 cost= 1.119195434\n",
      "Epoch: 0023 cost= 1.130578193\n",
      "Epoch: 0024 cost= 1.110660976\n",
      "Epoch: 0025 cost= 1.104324410\n",
      "Epoch: 0026 cost= 1.106903042\n",
      "Epoch: 0027 cost= 1.205890583\n",
      "Epoch: 0028 cost= 1.102131668\n",
      "Epoch: 0029 cost= 1.103784154\n",
      "Epoch: 0030 cost= 1.099250440\n",
      "Optimization Finished!\n",
      "Accuracy: 0.6952\n",
      "Extracting /tmp/data/train-images-idx3-ubyte.gz\n",
      "Extracting /tmp/data/train-labels-idx1-ubyte.gz\n",
      "Extracting /tmp/data/t10k-images-idx3-ubyte.gz\n",
      "Extracting /tmp/data/t10k-labels-idx1-ubyte.gz\n",
      "WARNING:tensorflow:From <ipython-input-41-34c090765b05>:124 in percept10.: initialize_all_variables (from tensorflow.python.ops.variables) is deprecated and will be removed after 2017-03-02.\n",
      "Instructions for updating:\n",
      "Use `tf.global_variables_initializer` instead.\n"
     ]
    },
    {
     "name": "stderr",
     "output_type": "stream",
     "text": [
      "WARNING:tensorflow:From <ipython-input-41-34c090765b05>:124 in percept10.: initialize_all_variables (from tensorflow.python.ops.variables) is deprecated and will be removed after 2017-03-02.\n",
      "Instructions for updating:\n",
      "Use `tf.global_variables_initializer` instead.\n"
     ]
    },
    {
     "name": "stdout",
     "output_type": "stream",
     "text": [
      "Epoch: 0001 cost= 2.301475110\n",
      "Epoch: 0002 cost= 2.258482726\n",
      "Epoch: 0003 cost= 1.962927114\n",
      "Epoch: 0004 cost= 1.437138602\n",
      "Epoch: 0005 cost= 1.226456123\n",
      "Epoch: 0006 cost= 1.109880609\n",
      "Epoch: 0007 cost= 1.065247452\n",
      "Epoch: 0008 cost= 1.075499756\n",
      "Epoch: 0009 cost= 1.126678404\n",
      "Epoch: 0010 cost= 1.142375957\n",
      "Epoch: 0011 cost= 1.124275955\n",
      "Epoch: 0012 cost= 1.161611878\n",
      "Epoch: 0013 cost= 1.152889468\n",
      "Epoch: 0014 cost= 1.089630239\n",
      "Epoch: 0015 cost= 1.076263236\n",
      "Epoch: 0016 cost= 1.115455276\n",
      "Epoch: 0017 cost= 1.137404469\n",
      "Epoch: 0018 cost= 1.145395740\n",
      "Epoch: 0019 cost= 1.126414587\n",
      "Epoch: 0020 cost= 1.091781261\n",
      "Epoch: 0021 cost= 1.112306667\n",
      "Epoch: 0022 cost= 1.069435124\n",
      "Epoch: 0023 cost= 1.076391155\n",
      "Epoch: 0024 cost= 1.126877651\n",
      "Epoch: 0025 cost= 1.098887207\n",
      "Epoch: 0026 cost= 1.093551307\n",
      "Epoch: 0027 cost= 1.126220817\n",
      "Epoch: 0028 cost= 1.132738549\n",
      "Epoch: 0029 cost= 1.195715146\n",
      "Epoch: 0030 cost= 1.218679800\n",
      "Optimization Finished!\n",
      "Accuracy: 0.6575\n",
      "Extracting /tmp/data/train-images-idx3-ubyte.gz\n",
      "Extracting /tmp/data/train-labels-idx1-ubyte.gz\n",
      "Extracting /tmp/data/t10k-images-idx3-ubyte.gz\n",
      "Extracting /tmp/data/t10k-labels-idx1-ubyte.gz\n",
      "WARNING:tensorflow:From <ipython-input-41-34c090765b05>:124 in percept10.: initialize_all_variables (from tensorflow.python.ops.variables) is deprecated and will be removed after 2017-03-02.\n",
      "Instructions for updating:\n",
      "Use `tf.global_variables_initializer` instead.\n"
     ]
    },
    {
     "name": "stderr",
     "output_type": "stream",
     "text": [
      "WARNING:tensorflow:From <ipython-input-41-34c090765b05>:124 in percept10.: initialize_all_variables (from tensorflow.python.ops.variables) is deprecated and will be removed after 2017-03-02.\n",
      "Instructions for updating:\n",
      "Use `tf.global_variables_initializer` instead.\n"
     ]
    },
    {
     "name": "stdout",
     "output_type": "stream",
     "text": [
      "Epoch: 0001 cost= 2.305478211\n",
      "Epoch: 0002 cost= 2.260261192\n",
      "Epoch: 0003 cost= 2.033092048\n",
      "Epoch: 0004 cost= 1.547212861\n",
      "Epoch: 0005 cost= 1.262982497\n",
      "Epoch: 0006 cost= 1.224221344\n",
      "Epoch: 0007 cost= 1.182748023\n",
      "Epoch: 0008 cost= 1.122646202\n",
      "Epoch: 0009 cost= 1.080593286\n",
      "Epoch: 0010 cost= 1.064920125\n",
      "Epoch: 0011 cost= 1.044085435\n",
      "Epoch: 0012 cost= 1.075309269\n",
      "Epoch: 0013 cost= 1.038538853\n",
      "Epoch: 0014 cost= 1.077021973\n",
      "Epoch: 0015 cost= 1.082732459\n",
      "Epoch: 0016 cost= 1.080215142\n",
      "Epoch: 0017 cost= 1.083114856\n",
      "Epoch: 0018 cost= 1.102126362\n",
      "Epoch: 0019 cost= 1.090560662\n",
      "Epoch: 0020 cost= 1.062528671\n",
      "Epoch: 0021 cost= 1.088806167\n",
      "Epoch: 0022 cost= 1.117384380\n",
      "Epoch: 0023 cost= 1.126265609\n",
      "Epoch: 0024 cost= 1.108546625\n",
      "Epoch: 0025 cost= 1.200003265\n",
      "Epoch: 0026 cost= 1.116549284\n",
      "Epoch: 0027 cost= 1.116186987\n",
      "Epoch: 0028 cost= 1.218494898\n",
      "Epoch: 0029 cost= nan\n",
      "Epoch: 0030 cost= nan\n",
      "Optimization Finished!\n",
      "Accuracy: 0.098\n",
      "Extracting /tmp/data/train-images-idx3-ubyte.gz\n",
      "Extracting /tmp/data/train-labels-idx1-ubyte.gz\n",
      "Extracting /tmp/data/t10k-images-idx3-ubyte.gz\n",
      "Extracting /tmp/data/t10k-labels-idx1-ubyte.gz\n",
      "WARNING:tensorflow:From <ipython-input-41-34c090765b05>:124 in percept10.: initialize_all_variables (from tensorflow.python.ops.variables) is deprecated and will be removed after 2017-03-02.\n",
      "Instructions for updating:\n",
      "Use `tf.global_variables_initializer` instead.\n"
     ]
    },
    {
     "name": "stderr",
     "output_type": "stream",
     "text": [
      "WARNING:tensorflow:From <ipython-input-41-34c090765b05>:124 in percept10.: initialize_all_variables (from tensorflow.python.ops.variables) is deprecated and will be removed after 2017-03-02.\n",
      "Instructions for updating:\n",
      "Use `tf.global_variables_initializer` instead.\n"
     ]
    },
    {
     "name": "stdout",
     "output_type": "stream",
     "text": [
      "Epoch: 0001 cost= 2.306638598\n",
      "Epoch: 0002 cost= 2.291540065\n",
      "Epoch: 0003 cost= 2.119589057\n",
      "Epoch: 0004 cost= 1.608994676\n",
      "Epoch: 0005 cost= 1.317168687\n",
      "Epoch: 0006 cost= 1.200385268\n",
      "Epoch: 0007 cost= 1.170770276\n",
      "Epoch: 0008 cost= 1.157823894\n",
      "Epoch: 0009 cost= 1.178746606\n",
      "Epoch: 0010 cost= 1.140218247\n",
      "Epoch: 0011 cost= 1.125132607\n",
      "Epoch: 0012 cost= 1.136305716\n",
      "Epoch: 0013 cost= 1.148208529\n",
      "Epoch: 0014 cost= 1.153680766\n",
      "Epoch: 0015 cost= 1.107604392\n",
      "Epoch: 0016 cost= 1.108608565\n",
      "Epoch: 0017 cost= 1.137137761\n",
      "Epoch: 0018 cost= 1.125392007\n",
      "Epoch: 0019 cost= 1.146632852\n",
      "Epoch: 0020 cost= 1.222405688\n",
      "Epoch: 0021 cost= 1.248305666\n",
      "Epoch: 0022 cost= 1.303668201\n",
      "Epoch: 0023 cost= 1.292633316\n",
      "Epoch: 0024 cost= 1.332865543\n",
      "Epoch: 0025 cost= 1.301646437\n",
      "Epoch: 0026 cost= nan\n",
      "Epoch: 0027 cost= nan\n",
      "Epoch: 0028 cost= nan\n",
      "Epoch: 0029 cost= nan\n",
      "Epoch: 0030 cost= nan\n",
      "Optimization Finished!\n",
      "Accuracy: 0.098\n",
      "Extracting /tmp/data/train-images-idx3-ubyte.gz\n",
      "Extracting /tmp/data/train-labels-idx1-ubyte.gz\n",
      "Extracting /tmp/data/t10k-images-idx3-ubyte.gz\n",
      "Extracting /tmp/data/t10k-labels-idx1-ubyte.gz\n",
      "WARNING:tensorflow:From <ipython-input-41-34c090765b05>:124 in percept10.: initialize_all_variables (from tensorflow.python.ops.variables) is deprecated and will be removed after 2017-03-02.\n",
      "Instructions for updating:\n",
      "Use `tf.global_variables_initializer` instead.\n"
     ]
    },
    {
     "name": "stderr",
     "output_type": "stream",
     "text": [
      "WARNING:tensorflow:From <ipython-input-41-34c090765b05>:124 in percept10.: initialize_all_variables (from tensorflow.python.ops.variables) is deprecated and will be removed after 2017-03-02.\n",
      "Instructions for updating:\n",
      "Use `tf.global_variables_initializer` instead.\n"
     ]
    },
    {
     "name": "stdout",
     "output_type": "stream",
     "text": [
      "Epoch: 0001 cost= 2.312753712\n",
      "Epoch: 0002 cost= 2.296614290\n",
      "Epoch: 0003 cost= 2.163031867\n",
      "Epoch: 0004 cost= 1.792771022\n",
      "Epoch: 0005 cost= 1.389360512\n",
      "Epoch: 0006 cost= 1.228397561\n",
      "Epoch: 0007 cost= 1.124902273\n",
      "Epoch: 0008 cost= 1.108663399\n",
      "Epoch: 0009 cost= 1.084904796\n",
      "Epoch: 0010 cost= 1.098851974\n",
      "Epoch: 0011 cost= 1.073912130\n",
      "Epoch: 0012 cost= 1.041132268\n",
      "Epoch: 0013 cost= 1.045134312\n",
      "Epoch: 0014 cost= 1.047106683\n",
      "Epoch: 0015 cost= 1.066579979\n",
      "Epoch: 0016 cost= 1.072187219\n",
      "Epoch: 0017 cost= 1.105212587\n",
      "Epoch: 0018 cost= 1.085288655\n",
      "Epoch: 0019 cost= 1.047794806\n",
      "Epoch: 0020 cost= 1.051010374\n",
      "Epoch: 0021 cost= 1.048176693\n",
      "Epoch: 0022 cost= 1.091107454\n",
      "Epoch: 0023 cost= 1.189662038\n",
      "Epoch: 0024 cost= 1.075035275\n",
      "Epoch: 0025 cost= 1.002155845\n",
      "Epoch: 0026 cost= 1.012675857\n",
      "Epoch: 0027 cost= 1.047160309\n",
      "Epoch: 0028 cost= 0.991178667\n",
      "Epoch: 0029 cost= 1.001421324\n",
      "Epoch: 0030 cost= 1.322314368\n",
      "Optimization Finished!\n",
      "Accuracy: 0.6535\n",
      "Extracting /tmp/data/train-images-idx3-ubyte.gz\n",
      "Extracting /tmp/data/train-labels-idx1-ubyte.gz\n",
      "Extracting /tmp/data/t10k-images-idx3-ubyte.gz\n",
      "Extracting /tmp/data/t10k-labels-idx1-ubyte.gz\n",
      "WARNING:tensorflow:From <ipython-input-41-34c090765b05>:124 in percept10.: initialize_all_variables (from tensorflow.python.ops.variables) is deprecated and will be removed after 2017-03-02.\n",
      "Instructions for updating:\n",
      "Use `tf.global_variables_initializer` instead.\n"
     ]
    },
    {
     "name": "stderr",
     "output_type": "stream",
     "text": [
      "WARNING:tensorflow:From <ipython-input-41-34c090765b05>:124 in percept10.: initialize_all_variables (from tensorflow.python.ops.variables) is deprecated and will be removed after 2017-03-02.\n",
      "Instructions for updating:\n",
      "Use `tf.global_variables_initializer` instead.\n"
     ]
    },
    {
     "name": "stdout",
     "output_type": "stream",
     "text": [
      "Epoch: 0001 cost= 2.335339778\n",
      "Epoch: 0002 cost= 2.309466236\n",
      "Epoch: 0003 cost= 2.248753464\n",
      "Epoch: 0004 cost= 2.025561349\n",
      "Epoch: 0005 cost= 1.590460506\n",
      "Epoch: 0006 cost= 1.358631993\n",
      "Epoch: 0007 cost= 1.293291003\n",
      "Epoch: 0008 cost= 1.206479897\n",
      "Epoch: 0009 cost= 1.195542099\n",
      "Epoch: 0010 cost= 1.154353725\n",
      "Epoch: 0011 cost= 1.127516666\n",
      "Epoch: 0012 cost= 1.130924099\n",
      "Epoch: 0013 cost= 1.139243875\n",
      "Epoch: 0014 cost= 1.110452939\n",
      "Epoch: 0015 cost= 1.131156108\n",
      "Epoch: 0016 cost= 1.105182552\n",
      "Epoch: 0017 cost= 1.099564318\n",
      "Epoch: 0018 cost= 1.148857046\n",
      "Epoch: 0019 cost= 1.085422854\n",
      "Epoch: 0020 cost= 1.071952347\n",
      "Epoch: 0021 cost= 1.075086051\n",
      "Epoch: 0022 cost= 1.102840484\n",
      "Epoch: 0023 cost= 1.096174056\n",
      "Epoch: 0024 cost= 1.048280594\n",
      "Epoch: 0025 cost= 1.057010023\n",
      "Epoch: 0026 cost= 1.081146842\n",
      "Epoch: 0027 cost= 1.083250997\n",
      "Epoch: 0028 cost= 1.086455703\n",
      "Epoch: 0029 cost= 1.112070401\n",
      "Epoch: 0030 cost= 1.076608474\n",
      "Optimization Finished!\n",
      "Accuracy: 0.6882\n",
      "Extracting /tmp/data/train-images-idx3-ubyte.gz\n",
      "Extracting /tmp/data/train-labels-idx1-ubyte.gz\n",
      "Extracting /tmp/data/t10k-images-idx3-ubyte.gz\n",
      "Extracting /tmp/data/t10k-labels-idx1-ubyte.gz\n",
      "WARNING:tensorflow:From <ipython-input-41-34c090765b05>:124 in percept10.: initialize_all_variables (from tensorflow.python.ops.variables) is deprecated and will be removed after 2017-03-02.\n",
      "Instructions for updating:\n",
      "Use `tf.global_variables_initializer` instead.\n"
     ]
    },
    {
     "name": "stderr",
     "output_type": "stream",
     "text": [
      "WARNING:tensorflow:From <ipython-input-41-34c090765b05>:124 in percept10.: initialize_all_variables (from tensorflow.python.ops.variables) is deprecated and will be removed after 2017-03-02.\n",
      "Instructions for updating:\n",
      "Use `tf.global_variables_initializer` instead.\n"
     ]
    },
    {
     "name": "stdout",
     "output_type": "stream",
     "text": [
      "Epoch: 0001 cost= 2.306306151\n",
      "Epoch: 0002 cost= 2.278212065\n",
      "Epoch: 0003 cost= 2.170862631\n",
      "Epoch: 0004 cost= 1.702457743\n",
      "Epoch: 0005 cost= 1.312181180\n",
      "Epoch: 0006 cost= 1.138877830\n",
      "Epoch: 0007 cost= 1.088433100\n",
      "Epoch: 0008 cost= 1.030243620\n",
      "Epoch: 0009 cost= 1.087918105\n",
      "Epoch: 0010 cost= 1.104613336\n",
      "Epoch: 0011 cost= 1.109146173\n",
      "Epoch: 0012 cost= 1.081909193\n",
      "Epoch: 0013 cost= 1.090471204\n",
      "Epoch: 0014 cost= 1.060744012\n",
      "Epoch: 0015 cost= 1.117396683\n",
      "Epoch: 0016 cost= 1.117028959\n",
      "Epoch: 0017 cost= 1.132901091\n",
      "Epoch: 0018 cost= 1.135989543\n",
      "Epoch: 0019 cost= 1.094572522\n",
      "Epoch: 0020 cost= 1.112280987\n",
      "Epoch: 0021 cost= 1.088994659\n",
      "Epoch: 0022 cost= 1.076685017\n",
      "Epoch: 0023 cost= 1.123439601\n",
      "Epoch: 0024 cost= 1.090697434\n",
      "Epoch: 0025 cost= 1.121301741\n",
      "Epoch: 0026 cost= 1.101993346\n",
      "Epoch: 0027 cost= 1.089246897\n",
      "Epoch: 0028 cost= 1.103959121\n",
      "Epoch: 0029 cost= 1.143194250\n",
      "Epoch: 0030 cost= 1.131773600\n",
      "Optimization Finished!\n",
      "Accuracy: 0.5999\n",
      "Extracting /tmp/data/train-images-idx3-ubyte.gz\n",
      "Extracting /tmp/data/train-labels-idx1-ubyte.gz\n",
      "Extracting /tmp/data/t10k-images-idx3-ubyte.gz\n",
      "Extracting /tmp/data/t10k-labels-idx1-ubyte.gz\n",
      "WARNING:tensorflow:From <ipython-input-41-34c090765b05>:124 in percept10.: initialize_all_variables (from tensorflow.python.ops.variables) is deprecated and will be removed after 2017-03-02.\n",
      "Instructions for updating:\n",
      "Use `tf.global_variables_initializer` instead.\n"
     ]
    },
    {
     "name": "stderr",
     "output_type": "stream",
     "text": [
      "WARNING:tensorflow:From <ipython-input-41-34c090765b05>:124 in percept10.: initialize_all_variables (from tensorflow.python.ops.variables) is deprecated and will be removed after 2017-03-02.\n",
      "Instructions for updating:\n",
      "Use `tf.global_variables_initializer` instead.\n"
     ]
    },
    {
     "name": "stdout",
     "output_type": "stream",
     "text": [
      "Epoch: 0001 cost= 2.317090816\n",
      "Epoch: 0002 cost= 2.290761114\n",
      "Epoch: 0003 cost= 2.159735544\n",
      "Epoch: 0004 cost= 1.815225685\n",
      "Epoch: 0005 cost= 1.412881527\n",
      "Epoch: 0006 cost= 1.261131846\n",
      "Epoch: 0007 cost= 1.159865233\n",
      "Epoch: 0008 cost= 1.110836744\n",
      "Epoch: 0009 cost= 1.080139222\n",
      "Epoch: 0010 cost= 1.052926565\n",
      "Epoch: 0011 cost= 1.036031565\n",
      "Epoch: 0012 cost= 1.065459845\n",
      "Epoch: 0013 cost= 1.091242092\n",
      "Epoch: 0014 cost= 1.050285395\n",
      "Epoch: 0015 cost= 1.064126346\n",
      "Epoch: 0016 cost= 1.063441148\n",
      "Epoch: 0017 cost= 1.080360006\n",
      "Epoch: 0018 cost= 1.079093887\n",
      "Epoch: 0019 cost= 1.091964256\n",
      "Epoch: 0020 cost= 1.060905920\n",
      "Epoch: 0021 cost= 1.074315929\n",
      "Epoch: 0022 cost= 1.085064983\n",
      "Epoch: 0023 cost= 1.064146959\n",
      "Epoch: 0024 cost= 1.168368346\n",
      "Epoch: 0025 cost= 1.145672216\n",
      "Epoch: 0026 cost= 1.132900299\n",
      "Epoch: 0027 cost= 1.063124159\n",
      "Epoch: 0028 cost= 1.116331348\n",
      "Epoch: 0029 cost= 1.162306785\n",
      "Epoch: 0030 cost= 1.206565112\n",
      "Optimization Finished!\n",
      "Accuracy: 0.2087\n",
      "Extracting /tmp/data/train-images-idx3-ubyte.gz\n",
      "Extracting /tmp/data/train-labels-idx1-ubyte.gz\n",
      "Extracting /tmp/data/t10k-images-idx3-ubyte.gz\n",
      "Extracting /tmp/data/t10k-labels-idx1-ubyte.gz\n",
      "WARNING:tensorflow:From <ipython-input-41-34c090765b05>:124 in percept10.: initialize_all_variables (from tensorflow.python.ops.variables) is deprecated and will be removed after 2017-03-02.\n",
      "Instructions for updating:\n",
      "Use `tf.global_variables_initializer` instead.\n"
     ]
    },
    {
     "name": "stderr",
     "output_type": "stream",
     "text": [
      "WARNING:tensorflow:From <ipython-input-41-34c090765b05>:124 in percept10.: initialize_all_variables (from tensorflow.python.ops.variables) is deprecated and will be removed after 2017-03-02.\n",
      "Instructions for updating:\n",
      "Use `tf.global_variables_initializer` instead.\n"
     ]
    },
    {
     "name": "stdout",
     "output_type": "stream",
     "text": [
      "Epoch: 0001 cost= 2.320119781\n",
      "Epoch: 0002 cost= 2.281096938\n",
      "Epoch: 0003 cost= 2.130687202\n",
      "Epoch: 0004 cost= 1.770092670\n",
      "Epoch: 0005 cost= 1.417077385\n",
      "Epoch: 0006 cost= 1.250800603\n",
      "Epoch: 0007 cost= 1.246729945\n",
      "Epoch: 0008 cost= 1.201531047\n",
      "Epoch: 0009 cost= 1.164333805\n",
      "Epoch: 0010 cost= 1.165605288\n",
      "Epoch: 0011 cost= 1.134926115\n",
      "Epoch: 0012 cost= 1.107191471\n",
      "Epoch: 0013 cost= 1.130351067\n",
      "Epoch: 0014 cost= 1.124969048\n",
      "Epoch: 0015 cost= 1.081597920\n",
      "Epoch: 0016 cost= 1.099345089\n",
      "Epoch: 0017 cost= 1.139881696\n",
      "Epoch: 0018 cost= 1.084076910\n",
      "Epoch: 0019 cost= 1.106666398\n",
      "Epoch: 0020 cost= 1.084790694\n",
      "Epoch: 0021 cost= 1.066434134\n",
      "Epoch: 0022 cost= 1.111259714\n",
      "Epoch: 0023 cost= 1.157989810\n",
      "Epoch: 0024 cost= 1.126691394\n",
      "Epoch: 0025 cost= 1.184591271\n",
      "Epoch: 0026 cost= 1.183946586\n",
      "Epoch: 0027 cost= 1.128889351\n",
      "Epoch: 0028 cost= 1.126186270\n",
      "Epoch: 0029 cost= 1.107085426\n",
      "Epoch: 0030 cost= 1.096222491\n",
      "Optimization Finished!\n",
      "Accuracy: 0.6981\n",
      "Extracting /tmp/data/train-images-idx3-ubyte.gz\n",
      "Extracting /tmp/data/train-labels-idx1-ubyte.gz\n",
      "Extracting /tmp/data/t10k-images-idx3-ubyte.gz\n",
      "Extracting /tmp/data/t10k-labels-idx1-ubyte.gz\n",
      "WARNING:tensorflow:From <ipython-input-41-34c090765b05>:124 in percept10.: initialize_all_variables (from tensorflow.python.ops.variables) is deprecated and will be removed after 2017-03-02.\n",
      "Instructions for updating:\n",
      "Use `tf.global_variables_initializer` instead.\n"
     ]
    },
    {
     "name": "stderr",
     "output_type": "stream",
     "text": [
      "WARNING:tensorflow:From <ipython-input-41-34c090765b05>:124 in percept10.: initialize_all_variables (from tensorflow.python.ops.variables) is deprecated and will be removed after 2017-03-02.\n",
      "Instructions for updating:\n",
      "Use `tf.global_variables_initializer` instead.\n"
     ]
    },
    {
     "name": "stdout",
     "output_type": "stream",
     "text": [
      "Epoch: 0001 cost= 2.313362448\n",
      "Epoch: 0002 cost= 2.284222209\n",
      "Epoch: 0003 cost= 1.986023432\n",
      "Epoch: 0004 cost= 1.440327975\n",
      "Epoch: 0005 cost= 1.238995430\n",
      "Epoch: 0006 cost= 1.077197206\n",
      "Epoch: 0007 cost= 1.021661461\n",
      "Epoch: 0008 cost= 1.010177727\n",
      "Epoch: 0009 cost= 1.040102865\n",
      "Epoch: 0010 cost= 1.044605642\n",
      "Epoch: 0011 cost= 1.040847797\n",
      "Epoch: 0012 cost= 1.016792605\n",
      "Epoch: 0013 cost= 1.041844055\n",
      "Epoch: 0014 cost= 1.038224174\n",
      "Epoch: 0015 cost= 1.048884718\n",
      "Epoch: 0016 cost= 1.074321466\n",
      "Epoch: 0017 cost= 1.079901201\n",
      "Epoch: 0018 cost= 1.088014857\n",
      "Epoch: 0019 cost= 1.107896463\n",
      "Epoch: 0020 cost= 1.135693160\n",
      "Epoch: 0021 cost= 1.136222536\n",
      "Epoch: 0022 cost= 1.107042198\n",
      "Epoch: 0023 cost= 1.105422416\n",
      "Epoch: 0024 cost= 1.056073630\n",
      "Epoch: 0025 cost= 1.097620462\n",
      "Epoch: 0026 cost= 1.066625403\n",
      "Epoch: 0027 cost= 1.125728829\n",
      "Epoch: 0028 cost= 1.067173813\n",
      "Epoch: 0029 cost= 1.122930715\n",
      "Epoch: 0030 cost= 1.096482102\n",
      "Optimization Finished!\n",
      "Accuracy: 0.7043\n"
     ]
    }
   ],
   "source": [
    "noNoise2, noise2 = test2()"
   ]
  },
  {
   "cell_type": "code",
   "execution_count": 44,
   "metadata": {
    "collapsed": false
   },
   "outputs": [
    {
     "data": {
      "text/plain": [
       "[0.91250002,\n",
       " 0.91390002,\n",
       " 0.90850002,\n",
       " 0.90460002,\n",
       " 0.90850002,\n",
       " 0.917,\n",
       " 0.88450003,\n",
       " 0.9102,\n",
       " 0.91189998,\n",
       " 0.90530002]"
      ]
     },
     "execution_count": 44,
     "metadata": {},
     "output_type": "execute_result"
    }
   ],
   "source": [
    "noNoise2"
   ]
  },
  {
   "cell_type": "code",
   "execution_count": 45,
   "metadata": {
    "collapsed": false
   },
   "outputs": [
    {
     "data": {
      "text/plain": [
       "[0.69520003,\n",
       " 0.65750003,\n",
       " 0.097999997,\n",
       " 0.097999997,\n",
       " 0.65350002,\n",
       " 0.6882,\n",
       " 0.59990001,\n",
       " 0.2087,\n",
       " 0.69809997,\n",
       " 0.70429999]"
      ]
     },
     "execution_count": 45,
     "metadata": {},
     "output_type": "execute_result"
    }
   ],
   "source": [
    "noise2"
   ]
  },
  {
   "cell_type": "code",
   "execution_count": null,
   "metadata": {
    "collapsed": true
   },
   "outputs": [],
   "source": []
  }
 ],
 "metadata": {
  "kernelspec": {
   "display_name": "Python 3",
   "language": "python",
   "name": "python3"
  },
  "language_info": {
   "codemirror_mode": {
    "name": "ipython",
    "version": 3
   },
   "file_extension": ".py",
   "mimetype": "text/x-python",
   "name": "python",
   "nbconvert_exporter": "python",
   "pygments_lexer": "ipython3",
   "version": "3.5.1"
  }
 },
 "nbformat": 4,
 "nbformat_minor": 0
}
