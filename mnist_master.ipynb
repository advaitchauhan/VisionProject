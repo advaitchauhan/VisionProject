{
 "cells": [
  {
   "cell_type": "code",
   "execution_count": 2,
   "metadata": {
    "collapsed": false
   },
   "outputs": [],
   "source": [
    "import math\n",
    "from tensorflow.examples.tutorials.mnist import input_data\n",
    "import tensorflow as tf\n",
    "from tensorflow.python.framework import ops\n",
    "from tensorflow.python.ops import random_ops\n",
    "\n",
    "def percept10(mnist, noise, lr, n_hidden, numEpochs, wdev, bdev):\n",
    "\n",
    "    # Parameters\n",
    "    learning_rate = lr\n",
    "    training_epochs = numEpochs\n",
    "    batch_size = 200\n",
    "    display_step = 1\n",
    "    \n",
    "    # Network Parameters\n",
    "    n_input = 784 # MNIST data input (img shape: 28*28)\n",
    "    n_classes = 10 # MNIST total classes (0-9 digits)\n",
    "\n",
    "    # define gradient noise scale\n",
    "    gradient_noise_scale = noise\n",
    "\n",
    "    # tf Graph input\n",
    "    x = tf.placeholder(\"float\", [None, n_input])\n",
    "    y = tf.placeholder(\"float\", [None, n_classes])\n",
    "\n",
    "\n",
    "    # Create model\n",
    "    def multilayer_perceptron(x, weights, biases):\n",
    "        # Hidden layer with RELU activation\n",
    "        layer_1 = tf.add(tf.matmul(x, weights['h1']), biases['b1'])\n",
    "        layer_1 = tf.nn.relu(layer_1)\n",
    "        # Hidden layer with RELU activation\n",
    "        layer_2 = tf.add(tf.matmul(layer_1, weights['h2']), biases['b2'])\n",
    "        layer_2 = tf.nn.relu(layer_2)\n",
    "        #Hidden layer, RELU Activation\n",
    "        layer_3 = tf.add(tf.matmul(layer_2, weights['h3']), biases['b3'])\n",
    "        layer_3 = tf.nn.relu(layer_3)\n",
    "        #Hidden layer, RELU Activation\n",
    "        layer_4 = tf.add(tf.matmul(layer_3, weights['h4']), biases['b4'])\n",
    "        layer_4 = tf.nn.relu(layer_4)\n",
    "        #Hidden layer, RELU Activation\n",
    "        layer_5 = tf.add(tf.matmul(layer_4, weights['h5']), biases['b5'])\n",
    "        layer_5 = tf.nn.relu(layer_5)\n",
    "        #Hidden layer, RELU Activation\n",
    "        layer_6 = tf.add(tf.matmul(layer_5, weights['h6']), biases['b6'])\n",
    "        layer_6 = tf.nn.relu(layer_6)\n",
    "        #Hidden layer, RELU Activation\n",
    "        layer_7 = tf.add(tf.matmul(layer_6, weights['h7']), biases['b7'])\n",
    "        layer_7 = tf.nn.relu(layer_7)\n",
    "        #Hidden layer, RELU Activation\n",
    "        layer_8 = tf.add(tf.matmul(layer_7, weights['h8']), biases['b8'])\n",
    "        layer_8 = tf.nn.relu(layer_8)\n",
    "        #Hidden layer, RELU Activation\n",
    "        layer_9 = tf.add(tf.matmul(layer_8, weights['h9']), biases['b9'])\n",
    "        layer_9 = tf.nn.relu(layer_9)\n",
    "        #Hidden layer, RELU Activation\n",
    "        layer_10 = tf.add(tf.matmul(layer_9, weights['h10']), biases['b10'])\n",
    "        layer_10 = tf.nn.relu(layer_10)\n",
    "        # Output layer with linear activation\n",
    "        out_layer = tf.matmul(layer_10, weights['out']) + biases['out']\n",
    "        return out_layer\n",
    "\n",
    "    # Store layers weight & bias\n",
    "    weights = {\n",
    "        'h1': tf.Variable(tf.random_normal([n_input, n_hidden], stddev = wdev )),\n",
    "        'h2': tf.Variable(tf.random_normal([n_hidden, n_hidden], stddev = wdev )),\n",
    "        'h3': tf.Variable(tf.random_normal([n_hidden, n_hidden], stddev = wdev)),\n",
    "        'h4': tf.Variable(tf.random_normal([n_hidden, n_hidden], stddev = wdev)),\n",
    "        'h5': tf.Variable(tf.random_normal([n_hidden, n_hidden], stddev = wdev)),\n",
    "        'h6': tf.Variable(tf.random_normal([n_hidden, n_hidden], stddev = wdev)),\n",
    "        'h7': tf.Variable(tf.random_normal([n_hidden, n_hidden], stddev = wdev)),\n",
    "        'h8': tf.Variable(tf.random_normal([n_hidden, n_hidden], stddev = wdev)),\n",
    "        'h9': tf.Variable(tf.random_normal([n_hidden, n_hidden], stddev = wdev)),\n",
    "        'h10': tf.Variable(tf.random_normal([n_hidden, n_hidden], stddev = wdev)),\n",
    "        'out': tf.Variable(tf.random_normal([n_hidden, n_classes], stddev = wdev)),\n",
    "    }\n",
    "    biases = {\n",
    "        'b1': tf.Variable(tf.random_normal([n_hidden], stddev = bdev)),\n",
    "        'b2': tf.Variable(tf.random_normal([n_hidden], stddev = bdev)),\n",
    "        'b3': tf.Variable(tf.random_normal([n_hidden], stddev = bdev)),\n",
    "        'b4': tf.Variable(tf.random_normal([n_hidden], stddev = bdev)),\n",
    "        'b5': tf.Variable(tf.random_normal([n_hidden], stddev = bdev)),\n",
    "        'b6': tf.Variable(tf.random_normal([n_hidden], stddev = bdev)),\n",
    "        'b7': tf.Variable(tf.random_normal([n_hidden], stddev = bdev)),\n",
    "        'b8': tf.Variable(tf.random_normal([n_hidden], stddev = bdev)),\n",
    "        'b9': tf.Variable(tf.random_normal([n_hidden], stddev = bdev)),\n",
    "        'b10': tf.Variable(tf.random_normal([n_hidden], stddev = bdev)),\n",
    "        'out': tf.Variable(tf.random_normal([n_classes], stddev = bdev)),\n",
    "    }\n",
    "\n",
    "    # Construct model\n",
    "    pred = multilayer_perceptron(x, weights, biases)\n",
    "\n",
    "    # Define loss and optimizer\n",
    "    cost = tf.reduce_mean(tf.nn.softmax_cross_entropy_with_logits(pred, y))\n",
    "    optimizer = tf.train.GradientDescentOptimizer(learning_rate=learning_rate)\n",
    "\n",
    "    grads_and_vars = optimizer.compute_gradients(cost)\n",
    "    gradients, variables = zip(*grads_and_vars)\n",
    "    noisy_gradients = []\n",
    "    for gradient in gradients:\n",
    "        if gradient is None:\n",
    "          noisy_gradients.append(None)\n",
    "          continue\n",
    "        if isinstance(gradient, ops.IndexedSlices):\n",
    "          gradient_shape = gradient.dense_shape\n",
    "        else:\n",
    "          gradient_shape = gradient.get_shape()\n",
    "        noise = random_ops.truncated_normal(gradient_shape) * gradient_noise_scale\n",
    "        noisy_gradients.append(gradient + noise)\n",
    "\n",
    "    noisy_grads_and_vars = list(zip(noisy_gradients, variables))\n",
    "    train_opt = optimizer.apply_gradients(noisy_grads_and_vars)\n",
    "\n",
    "\n",
    "    # Initializing the variables\n",
    "    init = tf.initialize_all_variables()\n",
    "\n",
    "    # Launch the graph\n",
    "    with tf.Session() as sess:\n",
    "        sess.run(init)\n",
    "\n",
    "        # Training cycle\n",
    "        for epoch in range(training_epochs):\n",
    "            avg_cost = 0.\n",
    "            total_batch = int(mnist.train.num_examples/batch_size)\n",
    "            # Loop over all batches\n",
    "            for i in range(total_batch):\n",
    "                batch_x, batch_y = mnist.train.next_batch(batch_size)\n",
    "                # Run optimization op (backprop) and cost op (to get loss value)\n",
    "                _, c = sess.run([train_opt, cost], feed_dict={x: batch_x,\n",
    "                                                              y: batch_y})\n",
    "                # Compute average loss\n",
    "                avg_cost += c / total_batch\n",
    "            if epoch % display_step == 0:\n",
    "                print(\"Epoch:\", '%04d' % (epoch+1), \"cost=\", \\\n",
    "                    \"{:.9f}\".format(avg_cost))\n",
    "        print(\"Optimization Finished!\")\n",
    "\n",
    "        # Test model\n",
    "        correct_prediction = tf.equal(tf.argmax(pred, 1), tf.argmax(y, 1))\n",
    "        # Calculate accuracy\n",
    "        accuracy = tf.reduce_mean(tf.cast(correct_prediction, \"float\"))\n",
    "        acc = accuracy.eval({x: mnist.test.images, y: mnist.test.labels})\n",
    "        print(\"Accuracy:\", acc)\n",
    "        return acc\n",
    "\n",
    "#An experiment looking at three initilizations with and without noise\n",
    "def testMain():\n",
    "\n",
    "    mnist = input_data.read_data_sets(\"/tmp/data/\", one_hot=True)\n",
    "    n = 2     #how many trials per experiment?\n",
    "    eps = 3  #how many epochs per net?\n",
    "    \n",
    "    #simple init\n",
    "    noise_init0 = [0]*n\n",
    "    znoise_init0 = [0]*n\n",
    "    \n",
    "    #good init\n",
    "    noise_init1 = [0]*n\n",
    "    znoise_init1 = [0]*n\n",
    "    \n",
    "    #my init\n",
    "    noise_initm = [0]*n\n",
    "    znoise_initm = [0]*n\n",
    "    #my init tests (re)\n",
    "\n",
    "    print(\"my init tests\")\n",
    "    for i in range(n):\n",
    "        znoise_initm[i] = percept10(mnist, noise=0, lr =.005, n_hidden = 50, numEpochs = eps, wdev = 1/math.sqrt(50), bdev = 1/math.sqrt(50))\n",
    "        noise_initm[i] = percept10(mnist, noise=1, lr =.005, n_hidden = 50, numEpochs = eps, wdev =  1/math.sqrt(50), bdev = 1/math.sqrt(50))\n",
    "    \n",
    "    \n",
    "    #simple init tests (.01 stdev for weights and biases)\n",
    "    print(\"simple init tests\")\n",
    "    for i in range(n):\n",
    "        znoise_init0[i] = percept10(mnist, noise=0, lr =.005, n_hidden = 50, numEpochs = eps, wdev = .01, bdev = .01)\n",
    "        noise_init0[i] = percept10(mnist, noise=1, lr =.005, n_hidden = 50, numEpochs = eps, wdev = .01, bdev = .01)\n",
    "        \n",
    "    #good init (derived in He et. al) tests\n",
    "    print(\"good init tests\")\n",
    "    for i in range(n):\n",
    "        znoise_init1[i] = percept10(mnist, noise=0, lr =.005, n_hidden = 50, numEpochs = eps, wdev = math.sqrt(2/50), bdev = 0)\n",
    "        noise_init1[i] = percept10(mnist, noise=1, lr =.005, n_hidden = 50, numEpochs = eps, wdev =  math.sqrt(2/50), bdev = 0)\n",
    "        \n",
    "    return noise_init0, znoise_init0, noise_init1, znoise_init1, noise_initm, znoise_initm\n"
   ]
  },
  {
   "cell_type": "code",
   "execution_count": 3,
   "metadata": {
    "collapsed": false
   },
   "outputs": [
    {
     "name": "stdout",
     "output_type": "stream",
     "text": [
      "Extracting /tmp/data/train-images-idx3-ubyte.gz\n",
      "Extracting /tmp/data/train-labels-idx1-ubyte.gz\n",
      "Extracting /tmp/data/t10k-images-idx3-ubyte.gz\n",
      "Extracting /tmp/data/t10k-labels-idx1-ubyte.gz\n",
      "my init tests\n",
      "WARNING:tensorflow:From <ipython-input-2-fb4f46e441fd>:117 in percept10.: initialize_all_variables (from tensorflow.python.ops.variables) is deprecated and will be removed after 2017-03-02.\n",
      "Instructions for updating:\n",
      "Use `tf.global_variables_initializer` instead.\n"
     ]
    },
    {
     "name": "stderr",
     "output_type": "stream",
     "text": [
      "WARNING:tensorflow:From <ipython-input-2-fb4f46e441fd>:117 in percept10.: initialize_all_variables (from tensorflow.python.ops.variables) is deprecated and will be removed after 2017-03-02.\n",
      "Instructions for updating:\n",
      "Use `tf.global_variables_initializer` instead.\n"
     ]
    },
    {
     "name": "stdout",
     "output_type": "stream",
     "text": [
      "Epoch: 0001 cost= 2.307264311\n",
      "Epoch: 0002 cost= 2.298364900\n",
      "Epoch: 0003 cost= 2.288840440\n",
      "Optimization Finished!\n",
      "Accuracy: 0.2068\n",
      "WARNING:tensorflow:From <ipython-input-2-fb4f46e441fd>:117 in percept10.: initialize_all_variables (from tensorflow.python.ops.variables) is deprecated and will be removed after 2017-03-02.\n",
      "Instructions for updating:\n",
      "Use `tf.global_variables_initializer` instead.\n"
     ]
    },
    {
     "name": "stderr",
     "output_type": "stream",
     "text": [
      "WARNING:tensorflow:From <ipython-input-2-fb4f46e441fd>:117 in percept10.: initialize_all_variables (from tensorflow.python.ops.variables) is deprecated and will be removed after 2017-03-02.\n",
      "Instructions for updating:\n",
      "Use `tf.global_variables_initializer` instead.\n"
     ]
    },
    {
     "name": "stdout",
     "output_type": "stream",
     "text": [
      "Epoch: 0001 cost= 2.306285219\n",
      "Epoch: 0002 cost= 2.239292642\n",
      "Epoch: 0003 cost= 1.965347281\n",
      "Optimization Finished!\n",
      "Accuracy: 0.393\n",
      "WARNING:tensorflow:From <ipython-input-2-fb4f46e441fd>:117 in percept10.: initialize_all_variables (from tensorflow.python.ops.variables) is deprecated and will be removed after 2017-03-02.\n",
      "Instructions for updating:\n",
      "Use `tf.global_variables_initializer` instead.\n"
     ]
    },
    {
     "name": "stderr",
     "output_type": "stream",
     "text": [
      "WARNING:tensorflow:From <ipython-input-2-fb4f46e441fd>:117 in percept10.: initialize_all_variables (from tensorflow.python.ops.variables) is deprecated and will be removed after 2017-03-02.\n",
      "Instructions for updating:\n",
      "Use `tf.global_variables_initializer` instead.\n"
     ]
    },
    {
     "name": "stdout",
     "output_type": "stream",
     "text": [
      "Epoch: 0001 cost= 2.311254025\n",
      "Epoch: 0002 cost= 2.296786116\n",
      "Epoch: 0003 cost= 2.274961526\n",
      "Optimization Finished!\n",
      "Accuracy: 0.198\n",
      "WARNING:tensorflow:From <ipython-input-2-fb4f46e441fd>:117 in percept10.: initialize_all_variables (from tensorflow.python.ops.variables) is deprecated and will be removed after 2017-03-02.\n",
      "Instructions for updating:\n",
      "Use `tf.global_variables_initializer` instead.\n"
     ]
    },
    {
     "name": "stderr",
     "output_type": "stream",
     "text": [
      "WARNING:tensorflow:From <ipython-input-2-fb4f46e441fd>:117 in percept10.: initialize_all_variables (from tensorflow.python.ops.variables) is deprecated and will be removed after 2017-03-02.\n",
      "Instructions for updating:\n",
      "Use `tf.global_variables_initializer` instead.\n"
     ]
    },
    {
     "name": "stdout",
     "output_type": "stream",
     "text": [
      "Epoch: 0001 cost= 2.315972215\n",
      "Epoch: 0002 cost= 2.309605781\n",
      "Epoch: 0003 cost= 2.252502446\n",
      "Optimization Finished!\n",
      "Accuracy: 0.2057\n",
      "simple init tests\n",
      "WARNING:tensorflow:From <ipython-input-2-fb4f46e441fd>:117 in percept10.: initialize_all_variables (from tensorflow.python.ops.variables) is deprecated and will be removed after 2017-03-02.\n",
      "Instructions for updating:\n",
      "Use `tf.global_variables_initializer` instead.\n"
     ]
    },
    {
     "name": "stderr",
     "output_type": "stream",
     "text": [
      "WARNING:tensorflow:From <ipython-input-2-fb4f46e441fd>:117 in percept10.: initialize_all_variables (from tensorflow.python.ops.variables) is deprecated and will be removed after 2017-03-02.\n",
      "Instructions for updating:\n",
      "Use `tf.global_variables_initializer` instead.\n"
     ]
    },
    {
     "name": "stdout",
     "output_type": "stream",
     "text": [
      "Epoch: 0001 cost= 2.302435791\n",
      "Epoch: 0002 cost= 2.302135285\n",
      "Epoch: 0003 cost= 2.301906076\n",
      "Optimization Finished!\n",
      "Accuracy: 0.1135\n",
      "WARNING:tensorflow:From <ipython-input-2-fb4f46e441fd>:117 in percept10.: initialize_all_variables (from tensorflow.python.ops.variables) is deprecated and will be removed after 2017-03-02.\n",
      "Instructions for updating:\n",
      "Use `tf.global_variables_initializer` instead.\n"
     ]
    },
    {
     "name": "stderr",
     "output_type": "stream",
     "text": [
      "WARNING:tensorflow:From <ipython-input-2-fb4f46e441fd>:117 in percept10.: initialize_all_variables (from tensorflow.python.ops.variables) is deprecated and will be removed after 2017-03-02.\n",
      "Instructions for updating:\n",
      "Use `tf.global_variables_initializer` instead.\n"
     ]
    },
    {
     "name": "stdout",
     "output_type": "stream",
     "text": [
      "Epoch: 0001 cost= 2.303393475\n",
      "Epoch: 0002 cost= 2.304664001\n",
      "Epoch: 0003 cost= 2.304047377\n",
      "Optimization Finished!\n",
      "Accuracy: 0.1032\n",
      "WARNING:tensorflow:From <ipython-input-2-fb4f46e441fd>:117 in percept10.: initialize_all_variables (from tensorflow.python.ops.variables) is deprecated and will be removed after 2017-03-02.\n",
      "Instructions for updating:\n",
      "Use `tf.global_variables_initializer` instead.\n"
     ]
    },
    {
     "name": "stderr",
     "output_type": "stream",
     "text": [
      "WARNING:tensorflow:From <ipython-input-2-fb4f46e441fd>:117 in percept10.: initialize_all_variables (from tensorflow.python.ops.variables) is deprecated and will be removed after 2017-03-02.\n",
      "Instructions for updating:\n",
      "Use `tf.global_variables_initializer` instead.\n"
     ]
    },
    {
     "name": "stdout",
     "output_type": "stream",
     "text": [
      "Epoch: 0001 cost= 2.302250471\n",
      "Epoch: 0002 cost= 2.301993045\n",
      "Epoch: 0003 cost= 2.301800268\n",
      "Optimization Finished!\n",
      "Accuracy: 0.1135\n",
      "WARNING:tensorflow:From <ipython-input-2-fb4f46e441fd>:117 in percept10.: initialize_all_variables (from tensorflow.python.ops.variables) is deprecated and will be removed after 2017-03-02.\n",
      "Instructions for updating:\n",
      "Use `tf.global_variables_initializer` instead.\n"
     ]
    },
    {
     "name": "stderr",
     "output_type": "stream",
     "text": [
      "WARNING:tensorflow:From <ipython-input-2-fb4f46e441fd>:117 in percept10.: initialize_all_variables (from tensorflow.python.ops.variables) is deprecated and will be removed after 2017-03-02.\n",
      "Instructions for updating:\n",
      "Use `tf.global_variables_initializer` instead.\n"
     ]
    },
    {
     "name": "stdout",
     "output_type": "stream",
     "text": [
      "Epoch: 0001 cost= 2.303334980\n",
      "Epoch: 0002 cost= 2.302846266\n",
      "Epoch: 0003 cost= 2.303514213\n",
      "Optimization Finished!\n",
      "Accuracy: 0.0974\n",
      "good init tests\n",
      "WARNING:tensorflow:From <ipython-input-2-fb4f46e441fd>:117 in percept10.: initialize_all_variables (from tensorflow.python.ops.variables) is deprecated and will be removed after 2017-03-02.\n",
      "Instructions for updating:\n",
      "Use `tf.global_variables_initializer` instead.\n"
     ]
    },
    {
     "name": "stderr",
     "output_type": "stream",
     "text": [
      "WARNING:tensorflow:From <ipython-input-2-fb4f46e441fd>:117 in percept10.: initialize_all_variables (from tensorflow.python.ops.variables) is deprecated and will be removed after 2017-03-02.\n",
      "Instructions for updating:\n",
      "Use `tf.global_variables_initializer` instead.\n"
     ]
    },
    {
     "name": "stdout",
     "output_type": "stream",
     "text": [
      "Epoch: 0001 cost= 1.771799701\n",
      "Epoch: 0002 cost= 1.059858922\n",
      "Epoch: 0003 cost= 0.838029535\n",
      "Optimization Finished!\n",
      "Accuracy: 0.7463\n",
      "WARNING:tensorflow:From <ipython-input-2-fb4f46e441fd>:117 in percept10.: initialize_all_variables (from tensorflow.python.ops.variables) is deprecated and will be removed after 2017-03-02.\n",
      "Instructions for updating:\n",
      "Use `tf.global_variables_initializer` instead.\n"
     ]
    },
    {
     "name": "stderr",
     "output_type": "stream",
     "text": [
      "WARNING:tensorflow:From <ipython-input-2-fb4f46e441fd>:117 in percept10.: initialize_all_variables (from tensorflow.python.ops.variables) is deprecated and will be removed after 2017-03-02.\n",
      "Instructions for updating:\n",
      "Use `tf.global_variables_initializer` instead.\n"
     ]
    },
    {
     "name": "stdout",
     "output_type": "stream",
     "text": [
      "Epoch: 0001 cost= 2.123494248\n",
      "Epoch: 0002 cost= 1.587031987\n",
      "Epoch: 0003 cost= 1.352846701\n",
      "Optimization Finished!\n",
      "Accuracy: 0.5856\n",
      "WARNING:tensorflow:From <ipython-input-2-fb4f46e441fd>:117 in percept10.: initialize_all_variables (from tensorflow.python.ops.variables) is deprecated and will be removed after 2017-03-02.\n",
      "Instructions for updating:\n",
      "Use `tf.global_variables_initializer` instead.\n"
     ]
    },
    {
     "name": "stderr",
     "output_type": "stream",
     "text": [
      "WARNING:tensorflow:From <ipython-input-2-fb4f46e441fd>:117 in percept10.: initialize_all_variables (from tensorflow.python.ops.variables) is deprecated and will be removed after 2017-03-02.\n",
      "Instructions for updating:\n",
      "Use `tf.global_variables_initializer` instead.\n"
     ]
    },
    {
     "name": "stdout",
     "output_type": "stream",
     "text": [
      "Epoch: 0001 cost= 1.675600221\n",
      "Epoch: 0002 cost= 1.084566146\n",
      "Epoch: 0003 cost= 0.854938574\n",
      "Optimization Finished!\n",
      "Accuracy: 0.7574\n",
      "WARNING:tensorflow:From <ipython-input-2-fb4f46e441fd>:117 in percept10.: initialize_all_variables (from tensorflow.python.ops.variables) is deprecated and will be removed after 2017-03-02.\n",
      "Instructions for updating:\n",
      "Use `tf.global_variables_initializer` instead.\n"
     ]
    },
    {
     "name": "stderr",
     "output_type": "stream",
     "text": [
      "WARNING:tensorflow:From <ipython-input-2-fb4f46e441fd>:117 in percept10.: initialize_all_variables (from tensorflow.python.ops.variables) is deprecated and will be removed after 2017-03-02.\n",
      "Instructions for updating:\n",
      "Use `tf.global_variables_initializer` instead.\n"
     ]
    },
    {
     "name": "stdout",
     "output_type": "stream",
     "text": [
      "Epoch: 0001 cost= 2.062214132\n",
      "Epoch: 0002 cost= 1.590391404\n",
      "Epoch: 0003 cost= 1.332777071\n",
      "Optimization Finished!\n",
      "Accuracy: 0.6005\n"
     ]
    }
   ],
   "source": [
    "n_i0, zn_i0, n_i1, zn_i1, n_im, zn_im = testMain()\n",
    "import pickle\n",
    "\n",
    "# obj0, obj1, obj2 are created here...\n",
    "\n",
    "# Saving the objects:\n",
    "with open('mnist_results.pickle', 'wb') as f:  # Python 3: open(..., 'wb')\n",
    "    pickle.dump([n_i0, zn_i0, n_i1, zn_i1, n_im, zn_im], f)\n",
    "\n",
    "# Getting back the objects:\n",
    "with open('mnist_results.pickle', 'rb') as f:  # Python 3: open(..., 'rb')\n",
    "    n_i0, zn_i0, n_i1, zn_i1, n_im, zn_im = pickle.load(f)\n",
    "\n"
   ]
  },
  {
   "cell_type": "code",
   "execution_count": null,
   "metadata": {
    "collapsed": true
   },
   "outputs": [],
   "source": []
  }
 ],
 "metadata": {
  "kernelspec": {
   "display_name": "Python 3",
   "language": "python",
   "name": "python3"
  },
  "language_info": {
   "codemirror_mode": {
    "name": "ipython",
    "version": 3
   },
   "file_extension": ".py",
   "mimetype": "text/x-python",
   "name": "python",
   "nbconvert_exporter": "python",
   "pygments_lexer": "ipython3",
   "version": "3.5.1"
  }
 },
 "nbformat": 4,
 "nbformat_minor": 0
}
